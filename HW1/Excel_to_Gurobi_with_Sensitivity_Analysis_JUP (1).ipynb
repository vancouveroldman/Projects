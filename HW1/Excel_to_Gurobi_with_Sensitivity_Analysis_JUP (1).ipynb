{
 "cells": [
  {
   "cell_type": "code",
   "execution_count": 123,
   "id": "30c39702",
   "metadata": {},
   "outputs": [],
   "source": [
    "import pandas as pd\n",
    "from gurobipy import *\n",
    "import openpyxl"
   ]
  },
  {
   "cell_type": "code",
   "execution_count": 124,
   "id": "2dbe4460",
   "metadata": {},
   "outputs": [],
   "source": [
    "# reading the inputs from Excel workbook\n",
    "wb = openpyxl.load_workbook(\"inputs1.xlsx\")\n",
    "main = wb['Main']"
   ]
  },
  {
   "cell_type": "code",
   "execution_count": 125,
   "id": "cdeb61cb",
   "metadata": {},
   "outputs": [],
   "source": [
    "# read objevtive\n",
    "obj = main.cell(column=2, row=1).value\n",
    "if obj =='max':\n",
    "    obj = -1\n",
    "elif obj =='min':\n",
    "    obj = 1\n",
    "else:\n",
    "    raise NameError('Objective cannot be recognized')\n",
    "# read obj coefficient\n",
    "obj_coeff = []\n",
    "for c in range(2,10000):\n",
    "    v = main.cell(column=c, row=3).value\n",
    "    if v is None:\n",
    "        break\n",
    "    else:\n",
    "        obj_coeff.append(v)\n",
    "n_variables = len(obj_coeff)\n",
    "\n",
    "#read variable properties\n",
    "variable_name = []\n",
    "for c in range(n_variables):\n",
    "    v = main.cell(column=c+2, row=2).value\n",
    "    if v is None:\n",
    "        variable_name.append('x'+str(c+1))\n",
    "    elif type(v) != str:\n",
    "        variable_name.append(str(v))\n",
    "    else:\n",
    "        variable_name.append(v)\n",
    "        \n",
    "variable_type = []\n",
    "for c in range(n_variables):\n",
    "    v = main.cell(column=c+2, row=4).value\n",
    "    if v is None:\n",
    "        t = 'C' \n",
    "    elif v == 'cont':\n",
    "        t = 'C'\n",
    "    elif v == 'int':\n",
    "        t = 'I'\n",
    "    elif v == 'bin':\n",
    "        t = 'B'\n",
    "    else:\n",
    "        raise NameError('Variable type cannot be recognized')\n",
    "    variable_type.append(t)\n",
    "    \n",
    "variable_lb = []\n",
    "for c in range(n_variables):\n",
    "    v = main.cell(column=c+2, row=5).value\n",
    "    if v is None:\n",
    "        t = 0\n",
    "    elif v == '\"+inf\"':\n",
    "        raise NameError('Variable lower bound cannot be +inf')\n",
    "    elif v == '\"-inf\"':\n",
    "        t = -GRB.INFINITY\n",
    "    elif type(v) in [float, int]:\n",
    "        t = v\n",
    "    else:\n",
    "        raise NameError('Variable lower bound cannot be recognized')\n",
    "    variable_lb.append(t)\n",
    "\n",
    "variable_ub = []\n",
    "for c in range(n_variables):\n",
    "    v = main.cell(column=c+2, row=6).value\n",
    "    if v is None:\n",
    "        t = GRB.INFINITY\n",
    "    elif v == '\"+inf\"':\n",
    "        t = GRB.INFINITY\n",
    "    elif v == '\"-inf\"':\n",
    "        raise NameError('Variable upper bound cannot be -inf')\n",
    "    elif type(v) in [float, int]:\n",
    "        t = v\n",
    "    else:\n",
    "        raise NameError('Variable upper bound cannot be recognized')\n",
    "    variable_ub.append(t)\n",
    "#print(obj_coeff)"
   ]
  },
  {
   "cell_type": "code",
   "execution_count": 126,
   "id": "57689e65",
   "metadata": {},
   "outputs": [],
   "source": [
    "# read constraints\n",
    "## find constraint column index\n",
    "for c in range(1, n_variables+100):\n",
    "    v = main.cell(column=c, row=8).value\n",
    "    if v == 'constraint type':\n",
    "        const_typ_cind = c\n",
    "        break\n",
    "\n",
    "if const_typ_cind-2 != n_variables:\n",
    "    raise NameError('Number of variables does not match the constraints')\n",
    "    \n",
    "## find last constraint row index\n",
    "for r in range(9, 100000):\n",
    "    v = main.cell(column=const_typ_cind, row=r).value\n",
    "    if v is None:\n",
    "        break\n",
    "    elif v not in [\"<=\", \">=\", \"=\"]:\n",
    "        raise NameError(\"Wrong constraint type\")\n",
    "    else:\n",
    "        last_r_consraints=r\n",
    "\n",
    "## read constraints as dataframe\n",
    "for r in range(9, last_r_consraints+1):\n",
    "    v = main.cell(column=const_typ_cind+2, row=r).value\n",
    "    if v is None:\n",
    "        main.cell(column=const_typ_cind+2, row=r).value = \"c\"+str(r-8)\n",
    "    elif type(v) != str:\n",
    "        main.cell(column=const_typ_cind+2, row=r).value = str(v)\n",
    "    else:\n",
    "        1==1        \n",
    "values = []\n",
    "cons_df = pd.DataFrame()\n",
    "for r in range(9, last_r_consraints+1):\n",
    "    r_values = []\n",
    "    for c in range(2, const_typ_cind+3):\n",
    "        r_values.append(main.cell(column=c, row=r).value)\n",
    "    values.append(r_values)\n",
    "    cons_df = pd.DataFrame(values)\n",
    "    cons_df.fillna(0, inplace=True)\n",
    "    cons_df.rename(columns={const_typ_cind-2:'constraint type', \n",
    "                            const_typ_cind-1:'RHS values', \n",
    "                            const_typ_cind:'constraint name'}, inplace=True)"
   ]
  },
  {
   "cell_type": "code",
   "execution_count": 127,
   "id": "07720262",
   "metadata": {},
   "outputs": [],
   "source": [
    "# setup model\n",
    "m = Model()"
   ]
  },
  {
   "cell_type": "code",
   "execution_count": 128,
   "id": "90d1c2ac",
   "metadata": {},
   "outputs": [],
   "source": [
    "# add variables\n",
    "x=m.addVars(n_variables)\n",
    "# set types, lb, ub of variables\n",
    "for i in range(n_variables):\n",
    "    x[i].setAttr('VarNAME', variable_name[i])\n",
    "    x[i].setAttr('vType', variable_type[i])\n",
    "    x[i].setAttr('lb', variable_lb[i])\n",
    "    x[i].setAttr('ub', variable_ub[i])"
   ]
  },
  {
   "cell_type": "code",
   "execution_count": 129,
   "id": "c0a18b06",
   "metadata": {},
   "outputs": [],
   "source": [
    "# set objective\n",
    "objective = quicksum(obj_coeff[i] * x[i] for i in range(n_variables))\n",
    "m.setObjective(objective, obj)"
   ]
  },
  {
   "cell_type": "code",
   "execution_count": 130,
   "id": "ab299b02",
   "metadata": {},
   "outputs": [],
   "source": [
    "# add constraints\n",
    "if cons_df.shape[0]:\n",
    "    ## add le constraints\n",
    "    le_const = cons_df[cons_df['constraint type'] == '<=']\n",
    "    le_const.reset_index(inplace=True, drop=True)\n",
    "    for i in range(le_const.shape[0]):\n",
    "        m.addConstr(quicksum(le_const.iloc[i,j]* x[j] for j in range(n_variables)) <= le_const['RHS values'][i], \n",
    "                    name = le_const['constraint name'][i])\n",
    "    ## add ge constraints\n",
    "    ge_const = cons_df[cons_df['constraint type'] == '>=']\n",
    "    ge_const.reset_index(inplace=True, drop=True)\n",
    "    for i in range(ge_const.shape[0]):\n",
    "        m.addConstr(quicksum(ge_const.iloc[i,j]* x[j] for j in range(n_variables)) >= ge_const['RHS values'][i], \n",
    "                    name = ge_const['constraint name'][i])\n",
    "    ## add eq constraints\n",
    "    eq_const = cons_df[cons_df['constraint type'] == '=']\n",
    "    eq_const.reset_index(inplace=True, drop=True)\n",
    "    for i in range(eq_const.shape[0]):\n",
    "        m.addConstr(quicksum(eq_const.iloc[i,j]* x[j] for j in range(n_variables)) == eq_const['RHS values'][i], \n",
    "                    name = eq_const['constraint name'][i])"
   ]
  },
  {
   "cell_type": "code",
   "execution_count": 131,
   "id": "8242d093",
   "metadata": {},
   "outputs": [
    {
     "name": "stdout",
     "output_type": "stream",
     "text": [
      "Gurobi Optimizer version 9.5.2 build v9.5.2rc0 (win64)\n",
      "Thread count: 6 physical cores, 12 logical processors, using up to 12 threads\n",
      "Optimize a model with 7 rows, 10 columns and 20 nonzeros\n",
      "Model fingerprint: 0x129453a5\n",
      "Variable types: 0 continuous, 10 integer (5 binary)\n",
      "Coefficient statistics:\n",
      "  Matrix range     [1e+00, 2e+03]\n",
      "  Objective range  [2e+01, 2e+03]\n",
      "  Bounds range     [0e+00, 0e+00]\n",
      "  RHS range        [4e+03, 5e+03]\n",
      "Found heuristic solution: objective -0.0000000\n",
      "Found heuristic solution: objective 21000.000000\n",
      "Presolve time: 0.00s\n",
      "Presolved: 7 rows, 10 columns, 20 nonzeros\n",
      "Variable types: 0 continuous, 10 integer (5 binary)\n",
      "\n",
      "Root relaxation: objective 5.555632e+04, 7 iterations, 0.00 seconds (0.00 work units)\n",
      "\n",
      "    Nodes    |    Current Node    |     Objective Bounds      |     Work\n",
      " Expl Unexpl |  Obj  Depth IntInf | Incumbent    BestBd   Gap | It/Node Time\n",
      "\n",
      "     0     0 55556.3218    0    4 21000.0000 55556.3218   165%     -    0s\n",
      "H    0     0                    54605.000000 55556.3218  1.74%     -    0s\n",
      "\n",
      "Cutting planes:\n",
      "  Gomory: 1\n",
      "\n",
      "Explored 1 nodes (7 simplex iterations) in 0.03 seconds (0.00 work units)\n",
      "Thread count was 12 (of 12 available processors)\n",
      "\n",
      "Solution count 3: 54605 21000 -0 \n",
      "\n",
      "Optimal solution found (tolerance 1.00e-04)\n",
      "Best objective 5.460500000000e+04, best bound 5.461000000000e+04, gap 0.0092%\n"
     ]
    }
   ],
   "source": [
    "## run the model\n",
    "m.optimize()"
   ]
  },
  {
   "cell_type": "code",
   "execution_count": 132,
   "id": "13d6b9d3",
   "metadata": {},
   "outputs": [
    {
     "name": "stdout",
     "output_type": "stream",
     "text": [
      "\n",
      "    Variable            X \n",
      "-------------------------\n",
      "          X2          966 \n",
      "          X5          379 \n",
      "          Y2            1 \n",
      "          Y5            1 \n"
     ]
    }
   ],
   "source": [
    "# print optimal solution\n",
    "m.printAttr('X')"
   ]
  },
  {
   "cell_type": "code",
   "execution_count": 133,
   "id": "fcd510d2",
   "metadata": {},
   "outputs": [
    {
     "name": "stdout",
     "output_type": "stream",
     "text": [
      "For Variable X1:\n"
     ]
    },
    {
     "ename": "AttributeError",
     "evalue": "Unable to retrieve attribute 'SAObjLow'",
     "output_type": "error",
     "traceback": [
      "\u001b[1;31m---------------------------------------------------------------------------\u001b[0m",
      "\u001b[1;31mAttributeError\u001b[0m                            Traceback (most recent call last)",
      "Input \u001b[1;32mIn [133]\u001b[0m, in \u001b[0;36m<cell line: 2>\u001b[1;34m()\u001b[0m\n\u001b[0;32m      2\u001b[0m \u001b[38;5;28;01mfor\u001b[39;00m v \u001b[38;5;129;01min\u001b[39;00m m\u001b[38;5;241m.\u001b[39mgetVars():\n\u001b[0;32m      3\u001b[0m     \u001b[38;5;28mprint\u001b[39m(\u001b[38;5;124m\"\u001b[39m\u001b[38;5;124mFor Variable \u001b[39m\u001b[38;5;124m\"\u001b[39m \u001b[38;5;241m+\u001b[39m v\u001b[38;5;241m.\u001b[39mVarName\u001b[38;5;241m+\u001b[39m \u001b[38;5;124m\"\u001b[39m\u001b[38;5;124m:\u001b[39m\u001b[38;5;124m\"\u001b[39m)\n\u001b[1;32m----> 4\u001b[0m     \u001b[38;5;28mprint\u001b[39m(\u001b[38;5;124m\"\u001b[39m\u001b[38;5;124mMinimum value coefficient can take before the optimal decision changes \u001b[39m\u001b[38;5;124m\"\u001b[39m  \u001b[38;5;241m+\u001b[39m \u001b[38;5;124m\"\u001b[39m\u001b[38;5;124mis \u001b[39m\u001b[38;5;124m\"\u001b[39m \u001b[38;5;241m+\u001b[39m \u001b[38;5;28mstr\u001b[39m(\u001b[43mv\u001b[49m\u001b[38;5;241;43m.\u001b[39;49m\u001b[43mSAObjLow\u001b[49m))\n\u001b[0;32m      5\u001b[0m     \u001b[38;5;28mprint\u001b[39m(\u001b[38;5;124m\"\u001b[39m\u001b[38;5;124mMaximum value coefficient can take before the optimal decision changes \u001b[39m\u001b[38;5;124m\"\u001b[39m  \u001b[38;5;241m+\u001b[39m \u001b[38;5;124m\"\u001b[39m\u001b[38;5;124mis \u001b[39m\u001b[38;5;124m\"\u001b[39m \u001b[38;5;241m+\u001b[39m \u001b[38;5;28mstr\u001b[39m(v\u001b[38;5;241m.\u001b[39mSAObjUp))\n",
      "File \u001b[1;32msrc\\gurobipy\\var.pxi:125\u001b[0m, in \u001b[0;36mgurobipy.Var.__getattr__\u001b[1;34m()\u001b[0m\n",
      "File \u001b[1;32msrc\\gurobipy\\var.pxi:153\u001b[0m, in \u001b[0;36mgurobipy.Var.getAttr\u001b[1;34m()\u001b[0m\n",
      "File \u001b[1;32msrc\\gurobipy\\attrutil.pxi:100\u001b[0m, in \u001b[0;36mgurobipy.__getattr\u001b[1;34m()\u001b[0m\n",
      "\u001b[1;31mAttributeError\u001b[0m: Unable to retrieve attribute 'SAObjLow'"
     ]
    }
   ],
   "source": [
    "# sensitivity analysis\n",
    "for v in m.getVars():\n",
    "    print(\"For Variable \" + v.VarName+ \":\")\n",
    "    print(\"Minimum value coefficient can take before the optimal decision changes \"  + \"is \" + str(v.SAObjLow))\n",
    "    print(\"Maximum value coefficient can take before the optimal decision changes \"  + \"is \" + str(v.SAObjUp))"
   ]
  },
  {
   "cell_type": "code",
   "execution_count": 89,
   "id": "f498cb37",
   "metadata": {},
   "outputs": [
    {
     "name": "stdout",
     "output_type": "stream",
     "text": [
      "For constraint production capacity for month 1:\n"
     ]
    },
    {
     "ename": "AttributeError",
     "evalue": "Unable to retrieve attribute 'pi'",
     "output_type": "error",
     "traceback": [
      "\u001b[1;31m---------------------------------------------------------------------------\u001b[0m",
      "\u001b[1;31mAttributeError\u001b[0m                            Traceback (most recent call last)",
      "Input \u001b[1;32mIn [89]\u001b[0m, in \u001b[0;36m<cell line: 1>\u001b[1;34m()\u001b[0m\n\u001b[0;32m      1\u001b[0m \u001b[38;5;28;01mfor\u001b[39;00m c \u001b[38;5;129;01min\u001b[39;00m m\u001b[38;5;241m.\u001b[39mgetConstrs():\n\u001b[0;32m      2\u001b[0m     \u001b[38;5;28mprint\u001b[39m(\u001b[38;5;124m\"\u001b[39m\u001b[38;5;124mFor constraint \u001b[39m\u001b[38;5;124m\"\u001b[39m \u001b[38;5;241m+\u001b[39m c\u001b[38;5;241m.\u001b[39mConstrName\u001b[38;5;241m+\u001b[39m \u001b[38;5;124m\"\u001b[39m\u001b[38;5;124m:\u001b[39m\u001b[38;5;124m\"\u001b[39m)\n\u001b[1;32m----> 3\u001b[0m     \u001b[38;5;28mprint\u001b[39m(\u001b[38;5;124m\"\u001b[39m\u001b[38;5;124mShawdow Price is \u001b[39m\u001b[38;5;124m\"\u001b[39m \u001b[38;5;241m+\u001b[39m \u001b[38;5;28mstr\u001b[39m(\u001b[43mc\u001b[49m\u001b[38;5;241;43m.\u001b[39;49m\u001b[43mpi\u001b[49m))\n\u001b[0;32m      4\u001b[0m     \u001b[38;5;28mprint\u001b[39m(\u001b[38;5;124m\"\u001b[39m\u001b[38;5;124mMinimum value RHS can take before the shadow price changes \u001b[39m\u001b[38;5;124m\"\u001b[39m  \u001b[38;5;241m+\u001b[39m \u001b[38;5;124m\"\u001b[39m\u001b[38;5;124mis \u001b[39m\u001b[38;5;124m\"\u001b[39m \u001b[38;5;241m+\u001b[39m \u001b[38;5;28mstr\u001b[39m(c\u001b[38;5;241m.\u001b[39mSARHSLow))\n\u001b[0;32m      5\u001b[0m     \u001b[38;5;28mprint\u001b[39m(\u001b[38;5;124m\"\u001b[39m\u001b[38;5;124mMaximum value RHS can take before the shadow price changes \u001b[39m\u001b[38;5;124m\"\u001b[39m  \u001b[38;5;241m+\u001b[39m \u001b[38;5;124m\"\u001b[39m\u001b[38;5;124mis \u001b[39m\u001b[38;5;124m\"\u001b[39m \u001b[38;5;241m+\u001b[39m \u001b[38;5;28mstr\u001b[39m(c\u001b[38;5;241m.\u001b[39mSARHSUp))\n",
      "File \u001b[1;32msrc\\gurobipy\\constr.pxi:67\u001b[0m, in \u001b[0;36mgurobipy.Constr.__getattr__\u001b[1;34m()\u001b[0m\n",
      "File \u001b[1;32msrc\\gurobipy\\constr.pxi:95\u001b[0m, in \u001b[0;36mgurobipy.Constr.getAttr\u001b[1;34m()\u001b[0m\n",
      "File \u001b[1;32msrc\\gurobipy\\attrutil.pxi:100\u001b[0m, in \u001b[0;36mgurobipy.__getattr\u001b[1;34m()\u001b[0m\n",
      "\u001b[1;31mAttributeError\u001b[0m: Unable to retrieve attribute 'pi'"
     ]
    }
   ],
   "source": [
    "for c in m.getConstrs():\n",
    "    print(\"For constraint \" + c.ConstrName+ \":\")\n",
    "    print(\"Shawdow Price is \" + str(c.pi))\n",
    "    print(\"Minimum value RHS can take before the shadow price changes \"  + \"is \" + str(c.SARHSLow))\n",
    "    print(\"Maximum value RHS can take before the shadow price changes \"  + \"is \" + str(c.SARHSUp))"
   ]
  },
  {
   "cell_type": "code",
   "execution_count": null,
   "id": "1ab5383f",
   "metadata": {},
   "outputs": [],
   "source": []
  }
 ],
 "metadata": {
  "kernelspec": {
   "display_name": "Python 3 (ipykernel)",
   "language": "python",
   "name": "python3"
  },
  "language_info": {
   "codemirror_mode": {
    "name": "ipython",
    "version": 3
   },
   "file_extension": ".py",
   "mimetype": "text/x-python",
   "name": "python",
   "nbconvert_exporter": "python",
   "pygments_lexer": "ipython3",
   "version": "3.9.12"
  }
 },
 "nbformat": 4,
 "nbformat_minor": 5
}
