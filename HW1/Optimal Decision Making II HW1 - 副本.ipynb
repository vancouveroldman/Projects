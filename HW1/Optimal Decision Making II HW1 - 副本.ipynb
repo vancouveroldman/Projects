{
 "cells": [
  {
   "cell_type": "code",
   "execution_count": 132,
   "id": "0d4b89e4",
   "metadata": {},
   "outputs": [],
   "source": [
    "from gurobipy import *\n",
    "m = Model()"
   ]
  },
  {
   "cell_type": "code",
   "execution_count": 133,
   "id": "134ede14",
   "metadata": {},
   "outputs": [],
   "source": [
    "I = list(range(1,10)) \n",
    "#list of school\n",
    "J = list(range(1,10))\n",
    "#list of grade proportion\n",
    "c=[[0,0,0,0,0,0,0,0,0,0],\n",
    "   [0,0,0,0,0,0,0,0,0,0],\n",
    "   [0,0,0,1,1,1,1,0,0,0],\n",
    "   [0,0,0,0,0,1,1,1,0,0],\n",
    "   [0,0,0,0,0,0,0,1,0,0],\n",
    "   [1,0,0,1,0,0,0,1,0,0],\n",
    "   [0,0,1,1,0,0,0,1,0,0],\n",
    "   [0,0,0,1,0,0,0,0,0,0],\n",
    "   [0,0,0,1,0,0,0,0,0,0],\n",
    "   [0,0,0,1,0,0,0,0,0,0],\n",
    "  ]"
   ]
  },
  {
   "cell_type": "code",
   "execution_count": 134,
   "id": "6d06fa68",
   "metadata": {},
   "outputs": [],
   "source": [
    "x = m.addVars(I, J, vtype=GRB.BINARY,name=\"x\")"
   ]
  },
  {
   "cell_type": "code",
   "execution_count": 135,
   "id": "40ab7dad",
   "metadata": {},
   "outputs": [],
   "source": [
    "m.setObjective(sum(x[i, j]*c[i-1][j-1] for i in I for j in J),\n",
    "                   GRB.MAXIMIZE)"
   ]
  },
  {
   "cell_type": "markdown",
   "id": "1d5c4669",
   "metadata": {},
   "source": [
    "Net flow equal to 0 for each node"
   ]
  },
  {
   "cell_type": "code",
   "execution_count": 136,
   "id": "032b48ef",
   "metadata": {},
   "outputs": [
    {
     "data": {
      "text/plain": [
       "<gurobi.Constr *Awaiting Model Update*>"
      ]
     },
     "execution_count": 136,
     "metadata": {},
     "output_type": "execute_result"
    }
   ],
   "source": [
    "m.addConstr(sum(x[i,j]for i in I for j in J if j ==1)-sum(x[i,j]for i in I for j in J if i == 1) == 0)\n",
    "m.addConstr(sum(x[i,j]for i in I for j in J if j ==2)-sum(x[i,j]for i in I for j in J if i == 2) == 0)\n",
    "m.addConstr(sum(x[i,j]for i in I for j in J if j ==3)-sum(x[i,j]for i in I for j in J if i == 3) == 0)\n",
    "m.addConstr(sum(x[i,j]for i in I for j in J if j ==4)-sum(x[i,j]for i in I for j in J if i == 4) == 0)\n",
    "m.addConstr(sum(x[i,j]for i in I for j in J if j ==5)-sum(x[i,j]for i in I for j in J if i == 5) == 0)\n",
    "m.addConstr(sum(x[i,j]for i in I for j in J if j ==6)-sum(x[i,j]for i in I for j in J if i == 6) == 0)\n",
    "m.addConstr(sum(x[i,j]for i in I for j in J if j ==7)-sum(x[i,j]for i in I for j in J if i == 7) == 0)\n",
    "m.addConstr(sum(x[i,j]for i in I for j in J if j ==8)-sum(x[i,j]for i in I for j in J if i == 8) == 0)\n",
    "m.addConstr(sum(x[i,j]for i in I for j in J if j ==9)-sum(x[i,j]for i in I for j in J if i == 9) == 0)\n",
    "m.addConstr(sum(x[i,j]for i in I for j in J if j ==10)-sum(x[i,j]for i in I for j in J if i == 10) == 0)"
   ]
  },
  {
   "cell_type": "markdown",
   "id": "c334a3c2",
   "metadata": {},
   "source": [
    "inflow less than or equal to 1 for each node"
   ]
  },
  {
   "cell_type": "code",
   "execution_count": 137,
   "id": "1439b0fe",
   "metadata": {},
   "outputs": [
    {
     "data": {
      "text/plain": [
       "<gurobi.Constr *Awaiting Model Update*>"
      ]
     },
     "execution_count": 137,
     "metadata": {},
     "output_type": "execute_result"
    }
   ],
   "source": [
    "m.addConstr(sum(x[i,j]for i in I for j in J if j ==1) <= 1)\n",
    "m.addConstr(sum(x[i,j]for i in I for j in J if j ==2) <= 1)\n",
    "m.addConstr(sum(x[i,j]for i in I for j in J if j ==3) <= 1)\n",
    "m.addConstr(sum(x[i,j]for i in I for j in J if j ==4) <= 1)\n",
    "m.addConstr(sum(x[i,j]for i in I for j in J if j ==5) <= 1)\n",
    "m.addConstr(sum(x[i,j]for i in I for j in J if j ==6) <= 1)\n",
    "m.addConstr(sum(x[i,j]for i in I for j in J if j ==7) <= 1)\n",
    "m.addConstr(sum(x[i,j]for i in I for j in J if j ==8) <= 1)\n",
    "m.addConstr(sum(x[i,j]for i in I for j in J if j ==9) <= 1)\n",
    "m.addConstr(sum(x[i,j]for i in I for j in J if j ==10) <= 1)"
   ]
  },
  {
   "cell_type": "markdown",
   "id": "806442fc",
   "metadata": {},
   "source": [
    "outflow less than or equal to 1 for each node"
   ]
  },
  {
   "cell_type": "code",
   "execution_count": 138,
   "id": "bdfa5280",
   "metadata": {},
   "outputs": [
    {
     "data": {
      "text/plain": [
       "<gurobi.Constr *Awaiting Model Update*>"
      ]
     },
     "execution_count": 138,
     "metadata": {},
     "output_type": "execute_result"
    }
   ],
   "source": [
    "m.addConstr(sum(x[i,j]for i in I for j in J if i ==1) <= 1)\n",
    "m.addConstr(sum(x[i,j]for i in I for j in J if i ==2) <= 1)\n",
    "m.addConstr(sum(x[i,j]for i in I for j in J if i ==3) <= 1)\n",
    "m.addConstr(sum(x[i,j]for i in I for j in J if i ==4) <= 1)\n",
    "m.addConstr(sum(x[i,j]for i in I for j in J if i ==5) <= 1)\n",
    "m.addConstr(sum(x[i,j]for i in I for j in J if i ==6) <= 1)\n",
    "m.addConstr(sum(x[i,j]for i in I for j in J if i ==7) <= 1)\n",
    "m.addConstr(sum(x[i,j]for i in I for j in J if i ==8) <= 1)\n",
    "m.addConstr(sum(x[i,j]for i in I for j in J if i ==9) <= 1)\n",
    "m.addConstr(sum(x[i,j]for i in I for j in J if i ==10) <= 1)"
   ]
  },
  {
   "cell_type": "markdown",
   "id": "db7c9229",
   "metadata": {},
   "source": [
    "Route constraints"
   ]
  },
  {
   "cell_type": "code",
   "execution_count": 139,
   "id": "e51a62db",
   "metadata": {},
   "outputs": [
    {
     "name": "stdout",
     "output_type": "stream",
     "text": [
      "Gurobi Optimizer version 9.5.2 build v9.5.2rc0 (win64)\n",
      "Thread count: 6 physical cores, 12 logical processors, using up to 12 threads\n",
      "Optimize a model with 30 rows, 81 columns and 306 nonzeros\n",
      "Model fingerprint: 0xb2fa311c\n",
      "Variable types: 0 continuous, 81 integer (81 binary)\n",
      "Coefficient statistics:\n",
      "  Matrix range     [1e+00, 1e+00]\n",
      "  Objective range  [1e+00, 1e+00]\n",
      "  Bounds range     [1e+00, 1e+00]\n",
      "  RHS range        [1e+00, 1e+00]\n",
      "Found heuristic solution: objective -0.0000000\n",
      "Presolve removed 3 rows and 9 columns\n",
      "Presolve time: 0.00s\n",
      "Presolved: 27 rows, 72 columns, 288 nonzeros\n",
      "Variable types: 0 continuous, 72 integer (72 binary)\n",
      "Found heuristic solution: objective 3.0000000\n",
      "\n",
      "Root relaxation: objective 6.000000e+00, 11 iterations, 0.00 seconds (0.00 work units)\n",
      "\n",
      "    Nodes    |    Current Node    |     Objective Bounds      |     Work\n",
      " Expl Unexpl |  Obj  Depth IntInf | Incumbent    BestBd   Gap | It/Node Time\n",
      "\n",
      "*    0     0               0       6.0000000    6.00000  0.00%     -    0s\n",
      "\n",
      "Explored 1 nodes (11 simplex iterations) in 0.03 seconds (0.00 work units)\n",
      "Thread count was 12 (of 12 available processors)\n",
      "\n",
      "Solution count 3: 6 3 -0 \n",
      "\n",
      "Optimal solution found (tolerance 1.00e-04)\n",
      "Best objective 6.000000000000e+00, best bound 6.000000000000e+00, gap 0.0000%\n"
     ]
    }
   ],
   "source": [
    "m.optimize()"
   ]
  },
  {
   "cell_type": "code",
   "execution_count": 140,
   "id": "a792e6ef",
   "metadata": {},
   "outputs": [
    {
     "name": "stdout",
     "output_type": "stream",
     "text": [
      "\n",
      "    Variable            X \n",
      "-------------------------\n",
      "      x[1,6]            1 \n",
      "      x[3,5]            1 \n",
      "      x[4,7]            1 \n",
      "      x[5,8]            1 \n",
      "      x[6,1]            1 \n",
      "      x[7,3]            1 \n",
      "      x[8,4]            1 \n"
     ]
    }
   ],
   "source": [
    "m.printAttr('X')"
   ]
  },
  {
   "cell_type": "code",
   "execution_count": null,
   "id": "950d1704",
   "metadata": {},
   "outputs": [],
   "source": []
  },
  {
   "cell_type": "code",
   "execution_count": null,
   "id": "b07663bc",
   "metadata": {},
   "outputs": [],
   "source": []
  }
 ],
 "metadata": {
  "kernelspec": {
   "display_name": "Python 3 (ipykernel)",
   "language": "python",
   "name": "python3"
  },
  "language_info": {
   "codemirror_mode": {
    "name": "ipython",
    "version": 3
   },
   "file_extension": ".py",
   "mimetype": "text/x-python",
   "name": "python",
   "nbconvert_exporter": "python",
   "pygments_lexer": "ipython3",
   "version": "3.9.12"
  }
 },
 "nbformat": 4,
 "nbformat_minor": 5
}
