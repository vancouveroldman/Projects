{
 "cells": [
  {
   "cell_type": "code",
   "execution_count": 2,
   "id": "0d4b89e4",
   "metadata": {},
   "outputs": [
    {
     "name": "stdout",
     "output_type": "stream",
     "text": [
      "Restricted license - for non-production use only - expires 2023-10-25\n"
     ]
    }
   ],
   "source": [
    "import networkx as nx\n",
    "import pandas as pd\n",
    "import pprint\n",
    "from gurobipy import *\n",
    "import matplotlib.pyplot as plt\n",
    "m = Model()"
   ]
  },
  {
   "cell_type": "code",
   "execution_count": 3,
   "id": "87ab2c76",
   "metadata": {},
   "outputs": [],
   "source": [
    "I = list(range(1,26)) \n",
    "J = list(range(1,26))\n",
    "K = list(range(1,26))"
   ]
  },
  {
   "cell_type": "markdown",
   "id": "155d68b3",
   "metadata": {},
   "source": [
    "# Question 1.Kidney Exchange Optimization"
   ]
  },
  {
   "cell_type": "markdown",
   "id": "e2ee81be",
   "metadata": {},
   "source": [
    "## Step 1: Import Data"
   ]
  },
  {
   "cell_type": "code",
   "execution_count": 4,
   "id": "40a50804",
   "metadata": {},
   "outputs": [
    {
     "name": "stdout",
     "output_type": "stream",
     "text": [
      "    Pair PatientBloodType  PatientTissueType DonorBloodType  DonorTissueType\n",
      "0      1                A                  3             AB                4\n",
      "1      2               AB                  4              B                2\n",
      "2      3                A                  4             AB                1\n",
      "3      4                A                  4              B                2\n",
      "4      5                O                  2              A                1\n",
      "5      6                A                  4              A                2\n",
      "6      7                B                  4              A                1\n",
      "7      8                A                  3             AB                3\n",
      "8      9                A                  3              B                2\n",
      "9     10                A                  1              B                1\n",
      "10    11                O                  1              O                4\n",
      "11    12                B                  2              A                2\n",
      "12    13                B                  1             AB                2\n",
      "13    14                A                  2              A                4\n",
      "14    15                B                  2              B                4\n",
      "15    16                B                  1             AB                3\n",
      "16    17               AB                  3              A                1\n",
      "17    18                O                  3              B                1\n",
      "18    19                O                  4             AB                3\n",
      "19    20                A                  3              O                1\n",
      "20    21                A                  1              B                5\n",
      "21    22                B                  2              A                4\n",
      "22    23               AB                  3              O                3\n",
      "23    24                O                  4              A                2\n",
      "24    25                O                  5              A                1\n"
     ]
    }
   ],
   "source": [
    "kpd = pd.read_csv(\"KPD_pool.csv\")\n",
    "print(kpd)"
   ]
  },
  {
   "cell_type": "markdown",
   "id": "3442b828",
   "metadata": {},
   "source": [
    "## Step 2: Create matrix for donor-patient pairs"
   ]
  },
  {
   "cell_type": "code",
   "execution_count": 5,
   "id": "11c3ebb9",
   "metadata": {},
   "outputs": [],
   "source": [
    "# create a dictionary to help determin blood type match between donors and patients\n",
    "match = {\"OO\":1,\"OA\":1,\"OB\":1,\"OAB\":1,\"AA\":1,\"AB\":0,\"AAB\":1,\"AO\":0,\"BB\":1,\"BA\":0,\"BAB\":1,\"BO\":0,\"ABAB\":1,\"ABA\":0,\"ABB\":0,\"ABO\":0}"
   ]
  },
  {
   "cell_type": "code",
   "execution_count": 6,
   "id": "22cf7882",
   "metadata": {},
   "outputs": [
    {
     "name": "stdout",
     "output_type": "stream",
     "text": [
      "{1: ['A', 3], 2: ['AB', 4], 3: ['A', 4], 4: ['A', 4], 5: ['O', 2], 6: ['A', 4], 7: ['B', 4], 8: ['A', 3], 9: ['A', 3], 10: ['A', 1], 11: ['O', 1], 12: ['B', 2], 13: ['B', 1], 14: ['A', 2], 15: ['B', 2], 16: ['B', 1], 17: ['AB', 3], 18: ['O', 3], 19: ['O', 4], 20: ['A', 3], 21: ['A', 1], 22: ['B', 2], 23: ['AB', 3], 24: ['O', 4], 25: ['O', 5]}\n"
     ]
    }
   ],
   "source": [
    "# create a dictionary to contain patients information\n",
    "patient_blood_type = kpd[\"PatientBloodType\"].tolist()\n",
    "patient_tissue_type = kpd[\"PatientTissueType\"].tolist()\n",
    "patient = {}\n",
    "for i in I:\n",
    "    patient[i]=[patient_blood_type[i-1],patient_tissue_type[i-1]]\n",
    "print(patient)"
   ]
  },
  {
   "cell_type": "code",
   "execution_count": 7,
   "id": "2a0aa0f0",
   "metadata": {},
   "outputs": [
    {
     "name": "stdout",
     "output_type": "stream",
     "text": [
      "{1: ['AB', 4], 2: ['B', 2], 3: ['AB', 1], 4: ['B', 2], 5: ['A', 1], 6: ['A', 2], 7: ['A', 1], 8: ['AB', 3], 9: ['B', 2], 10: ['B', 1], 11: ['O', 4], 12: ['A', 2], 13: ['AB', 2], 14: ['A', 4], 15: ['B', 4], 16: ['AB', 3], 17: ['A', 1], 18: ['B', 1], 19: ['AB', 3], 20: ['O', 1], 21: ['B', 5], 22: ['A', 4], 23: ['O', 3], 24: ['A', 2], 25: ['A', 1]}\n"
     ]
    }
   ],
   "source": [
    "# create a dictionary to contain donor information\n",
    "donor_blood_type = kpd[\"DonorBloodType\"].tolist()\n",
    "donor_tissue_type = kpd[\"DonorTissueType\"].tolist()\n",
    "donor = {}\n",
    "for i in I:\n",
    "    donor[i]=[donor_blood_type[i-1],donor_tissue_type[i-1]]\n",
    "print(donor)"
   ]
  },
  {
   "cell_type": "code",
   "execution_count": 8,
   "id": "1e444247",
   "metadata": {},
   "outputs": [
    {
     "name": "stdout",
     "output_type": "stream",
     "text": [
      "[[0, 1, 0, 0, 0, 0, 0, 0, 0, 0, 0, 0, 0, 0, 0, 0, 0, 0, 0, 0, 0, 0, 0, 0, 0], [0, 0, 0, 0, 0, 0, 0, 0, 0, 0, 0, 1, 0, 0, 1, 0, 0, 0, 0, 0, 0, 1, 0, 0, 0], [0, 0, 0, 0, 0, 0, 0, 0, 0, 0, 0, 0, 0, 0, 0, 0, 0, 0, 0, 0, 0, 0, 0, 0, 0], [0, 0, 0, 0, 0, 0, 0, 0, 0, 0, 0, 1, 0, 0, 1, 0, 0, 0, 0, 0, 0, 1, 0, 0, 0], [0, 0, 0, 0, 0, 0, 0, 0, 0, 1, 0, 0, 0, 0, 0, 0, 0, 0, 0, 0, 1, 0, 0, 0, 0], [0, 0, 0, 0, 0, 0, 0, 0, 0, 0, 0, 0, 0, 1, 0, 0, 0, 0, 0, 0, 0, 0, 0, 0, 0], [0, 0, 0, 0, 0, 0, 0, 0, 0, 1, 0, 0, 0, 0, 0, 0, 0, 0, 0, 0, 1, 0, 0, 0, 0], [0, 0, 0, 0, 0, 0, 0, 0, 0, 0, 0, 0, 0, 0, 0, 0, 1, 0, 0, 0, 0, 0, 1, 0, 0], [0, 0, 0, 0, 0, 0, 0, 0, 0, 0, 0, 1, 0, 0, 1, 0, 0, 0, 0, 0, 0, 1, 0, 0, 0], [0, 0, 0, 0, 0, 0, 0, 0, 0, 0, 0, 0, 1, 0, 0, 1, 0, 0, 0, 0, 0, 0, 0, 0, 0], [0, 1, 1, 1, 0, 1, 1, 0, 0, 0, 0, 0, 0, 0, 0, 0, 0, 0, 1, 0, 0, 0, 0, 1, 0], [0, 0, 0, 0, 0, 0, 0, 0, 0, 0, 0, 0, 0, 1, 0, 0, 0, 0, 0, 0, 0, 0, 0, 0, 0], [0, 0, 0, 0, 0, 0, 0, 0, 0, 0, 0, 0, 0, 0, 0, 0, 0, 0, 0, 0, 0, 0, 0, 0, 0], [0, 1, 1, 1, 0, 1, 0, 0, 0, 0, 0, 0, 0, 0, 0, 0, 0, 0, 0, 0, 0, 0, 0, 0, 0], [0, 1, 0, 0, 0, 0, 1, 0, 0, 0, 0, 0, 0, 0, 0, 0, 0, 0, 0, 0, 0, 0, 0, 0, 0], [0, 0, 0, 0, 0, 0, 0, 0, 0, 0, 0, 0, 0, 0, 0, 0, 1, 0, 0, 0, 0, 0, 1, 0, 0], [0, 0, 0, 0, 0, 0, 0, 0, 0, 1, 0, 0, 0, 0, 0, 0, 0, 0, 0, 0, 1, 0, 0, 0, 0], [0, 0, 0, 0, 0, 0, 0, 0, 0, 0, 0, 0, 1, 0, 0, 1, 0, 0, 0, 0, 0, 0, 0, 0, 0], [0, 0, 0, 0, 0, 0, 0, 0, 0, 0, 0, 0, 0, 0, 0, 0, 1, 0, 0, 0, 0, 0, 1, 0, 0], [0, 0, 0, 0, 0, 0, 0, 0, 0, 1, 1, 0, 1, 0, 0, 1, 0, 0, 0, 0, 1, 0, 0, 0, 0], [0, 0, 0, 0, 0, 0, 0, 0, 0, 0, 0, 0, 0, 0, 0, 0, 0, 0, 0, 0, 0, 0, 0, 0, 0], [0, 1, 1, 1, 0, 1, 0, 0, 0, 0, 0, 0, 0, 0, 0, 0, 0, 0, 0, 0, 0, 0, 0, 0, 0], [1, 0, 0, 0, 0, 0, 0, 1, 1, 0, 0, 0, 0, 0, 0, 0, 1, 1, 0, 1, 0, 0, 1, 0, 0], [0, 0, 0, 0, 0, 0, 0, 0, 0, 0, 0, 0, 0, 1, 0, 0, 0, 0, 0, 0, 0, 0, 0, 0, 0], [0, 0, 0, 0, 0, 0, 0, 0, 0, 1, 0, 0, 0, 0, 0, 0, 0, 0, 0, 0, 1, 0, 0, 0, 0]]\n"
     ]
    }
   ],
   "source": [
    "# create a donor-patient matrix to contain all the possible donation between donors and patients \n",
    "# matrix[i][j]=1 means donation from donor i to patient j is feasible\n",
    "# matrix[i][j]=0 means donation from donor i to patient j is not feasible\n",
    "matrix = [[0]*len(I) for j in J]\n",
    "for i in I:\n",
    "    for j in J:\n",
    "        if donor[i][1]==patient[j][1] and match[str(donor[i][0])+str(patient[j][0])] == 1:\n",
    "            matrix[i-1][j-1] = 1\n",
    "        else:\n",
    "            matrix[i-1][j-1] = 0\n",
    "print(matrix)"
   ]
  },
  {
   "cell_type": "markdown",
   "id": "6286d25a",
   "metadata": {},
   "source": [
    "## Step 3: Draw the pairs diagram"
   ]
  },
  {
   "cell_type": "code",
   "execution_count": 9,
   "id": "513bd805",
   "metadata": {},
   "outputs": [],
   "source": [
    "G = nx.DiGraph()\n",
    "G.add_nodes_from(I)"
   ]
  },
  {
   "cell_type": "code",
   "execution_count": 10,
   "id": "a7330a1f",
   "metadata": {},
   "outputs": [
    {
     "name": "stdout",
     "output_type": "stream",
     "text": [
      "[(1, 2), (2, 12), (2, 15), (2, 22), (4, 12), (4, 15), (4, 22), (5, 10), (5, 21), (6, 14), (7, 10), (7, 21), (8, 17), (8, 23), (9, 12), (9, 15), (9, 22), (10, 13), (10, 16), (11, 2), (11, 3), (11, 4), (11, 6), (11, 7), (11, 19), (11, 24), (12, 14), (14, 2), (14, 3), (14, 4), (14, 6), (15, 2), (15, 7), (16, 17), (16, 23), (17, 10), (17, 21), (18, 13), (18, 16), (19, 17), (19, 23), (20, 10), (20, 11), (20, 13), (20, 16), (20, 21), (22, 2), (22, 3), (22, 4), (22, 6), (23, 1), (23, 8), (23, 9), (23, 17), (23, 18), (23, 20), (23, 23), (24, 14), (25, 10), (25, 21)]\n"
     ]
    }
   ],
   "source": [
    "elist = []\n",
    "for i in I:\n",
    "    for j in J:\n",
    "        if matrix[i-1][j-1] == 1:\n",
    "            elist.append((i,j))\n",
    "print(elist)"
   ]
  },
  {
   "cell_type": "code",
   "execution_count": 11,
   "id": "8e8996c2",
   "metadata": {},
   "outputs": [
    {
     "data": {
      "image/png": "[encoded data removed]",
      "text/plain": [
       "<Figure size 432x288 with 1 Axes>"
      ]
     },
     "metadata": {},
     "output_type": "display_data"
    }
   ],
   "source": [
    "G.add_edges_from(elist)\n",
    "nx.draw_networkx(G,\n",
    "                pos = nx.circular_layout(G))"
   ]
  },
  {
   "cell_type": "markdown",
   "id": "6246d7ca",
   "metadata": {},
   "source": [
    "## Step 4: Add decision variables"
   ]
  },
  {
   "cell_type": "code",
   "execution_count": 12,
   "id": "6d06fa68",
   "metadata": {},
   "outputs": [],
   "source": [
    "x = m.addVars(I, J, vtype=GRB.BINARY,name=\"x\")"
   ]
  },
  {
   "cell_type": "markdown",
   "id": "0a003af4",
   "metadata": {},
   "source": [
    "## Step 5: Set objective function"
   ]
  },
  {
   "cell_type": "code",
   "execution_count": 13,
   "id": "40ab7dad",
   "metadata": {},
   "outputs": [],
   "source": [
    "m.setObjective(sum(x[i, j] for i in I for j in J),\n",
    "                   GRB.MAXIMIZE)"
   ]
  },
  {
   "cell_type": "markdown",
   "id": "8659ca10",
   "metadata": {},
   "source": [
    "## Step 6: Add constraints"
   ]
  },
  {
   "cell_type": "markdown",
   "id": "1d5c4669",
   "metadata": {},
   "source": [
    "### Constraint 1: Net flow equal to 0 for each node"
   ]
  },
  {
   "cell_type": "code",
   "execution_count": 14,
   "id": "492dc179",
   "metadata": {},
   "outputs": [],
   "source": [
    "for k in K:\n",
    "    m.addConstr(sum(x[i,j]for i in I for j in J if j == k)-sum(x[i,j]for i in I for j in J if i == k) == 0)"
   ]
  },
  {
   "cell_type": "markdown",
   "id": "c334a3c2",
   "metadata": {},
   "source": [
    "### Constraint 2: Inflow equal to or less than 1 for each node"
   ]
  },
  {
   "cell_type": "code",
   "execution_count": 15,
   "id": "64feeb6b",
   "metadata": {},
   "outputs": [],
   "source": [
    "for k in K:\n",
    "    m.addConstr(sum(x[i,j]for i in I for j in J if j == k) <= 1)"
   ]
  },
  {
   "cell_type": "markdown",
   "id": "806442fc",
   "metadata": {},
   "source": [
    "### Constraint 3: Outflow equal to or less than 1 for each node"
   ]
  },
  {
   "cell_type": "code",
   "execution_count": 16,
   "id": "ba16c575",
   "metadata": {},
   "outputs": [],
   "source": [
    "for k in K:\n",
    "    m.addConstr(sum(x[i,j]for i in I for j in J if i == k) <= 1)"
   ]
  },
  {
   "cell_type": "markdown",
   "id": "db7c9229",
   "metadata": {},
   "source": [
    "### Constraint 4: Route constraints"
   ]
  },
  {
   "cell_type": "code",
   "execution_count": 17,
   "id": "86ab098e",
   "metadata": {},
   "outputs": [
    {
     "data": {
      "text/plain": [
       "{(1, 1): <gurobi.Constr *Awaiting Model Update*>,\n",
       " (1, 3): <gurobi.Constr *Awaiting Model Update*>,\n",
       " (1, 4): <gurobi.Constr *Awaiting Model Update*>,\n",
       " (1, 5): <gurobi.Constr *Awaiting Model Update*>,\n",
       " (1, 6): <gurobi.Constr *Awaiting Model Update*>,\n",
       " (1, 7): <gurobi.Constr *Awaiting Model Update*>,\n",
       " (1, 8): <gurobi.Constr *Awaiting Model Update*>,\n",
       " (1, 9): <gurobi.Constr *Awaiting Model Update*>,\n",
       " (1, 10): <gurobi.Constr *Awaiting Model Update*>,\n",
       " (1, 11): <gurobi.Constr *Awaiting Model Update*>,\n",
       " (1, 12): <gurobi.Constr *Awaiting Model Update*>,\n",
       " (1, 13): <gurobi.Constr *Awaiting Model Update*>,\n",
       " (1, 14): <gurobi.Constr *Awaiting Model Update*>,\n",
       " (1, 15): <gurobi.Constr *Awaiting Model Update*>,\n",
       " (1, 16): <gurobi.Constr *Awaiting Model Update*>,\n",
       " (1, 17): <gurobi.Constr *Awaiting Model Update*>,\n",
       " (1, 18): <gurobi.Constr *Awaiting Model Update*>,\n",
       " (1, 19): <gurobi.Constr *Awaiting Model Update*>,\n",
       " (1, 20): <gurobi.Constr *Awaiting Model Update*>,\n",
       " (1, 21): <gurobi.Constr *Awaiting Model Update*>,\n",
       " (1, 22): <gurobi.Constr *Awaiting Model Update*>,\n",
       " (1, 23): <gurobi.Constr *Awaiting Model Update*>,\n",
       " (1, 24): <gurobi.Constr *Awaiting Model Update*>,\n",
       " (1, 25): <gurobi.Constr *Awaiting Model Update*>,\n",
       " (2, 1): <gurobi.Constr *Awaiting Model Update*>,\n",
       " (2, 2): <gurobi.Constr *Awaiting Model Update*>,\n",
       " (2, 3): <gurobi.Constr *Awaiting Model Update*>,\n",
       " (2, 4): <gurobi.Constr *Awaiting Model Update*>,\n",
       " (2, 5): <gurobi.Constr *Awaiting Model Update*>,\n",
       " (2, 6): <gurobi.Constr *Awaiting Model Update*>,\n",
       " (2, 7): <gurobi.Constr *Awaiting Model Update*>,\n",
       " (2, 8): <gurobi.Constr *Awaiting Model Update*>,\n",
       " (2, 9): <gurobi.Constr *Awaiting Model Update*>,\n",
       " (2, 10): <gurobi.Constr *Awaiting Model Update*>,\n",
       " (2, 11): <gurobi.Constr *Awaiting Model Update*>,\n",
       " (2, 13): <gurobi.Constr *Awaiting Model Update*>,\n",
       " (2, 14): <gurobi.Constr *Awaiting Model Update*>,\n",
       " (2, 16): <gurobi.Constr *Awaiting Model Update*>,\n",
       " (2, 17): <gurobi.Constr *Awaiting Model Update*>,\n",
       " (2, 18): <gurobi.Constr *Awaiting Model Update*>,\n",
       " (2, 19): <gurobi.Constr *Awaiting Model Update*>,\n",
       " (2, 20): <gurobi.Constr *Awaiting Model Update*>,\n",
       " (2, 21): <gurobi.Constr *Awaiting Model Update*>,\n",
       " (2, 23): <gurobi.Constr *Awaiting Model Update*>,\n",
       " (2, 24): <gurobi.Constr *Awaiting Model Update*>,\n",
       " (2, 25): <gurobi.Constr *Awaiting Model Update*>,\n",
       " (3, 1): <gurobi.Constr *Awaiting Model Update*>,\n",
       " (3, 2): <gurobi.Constr *Awaiting Model Update*>,\n",
       " (3, 3): <gurobi.Constr *Awaiting Model Update*>,\n",
       " (3, 4): <gurobi.Constr *Awaiting Model Update*>,\n",
       " (3, 5): <gurobi.Constr *Awaiting Model Update*>,\n",
       " (3, 6): <gurobi.Constr *Awaiting Model Update*>,\n",
       " (3, 7): <gurobi.Constr *Awaiting Model Update*>,\n",
       " (3, 8): <gurobi.Constr *Awaiting Model Update*>,\n",
       " (3, 9): <gurobi.Constr *Awaiting Model Update*>,\n",
       " (3, 10): <gurobi.Constr *Awaiting Model Update*>,\n",
       " (3, 11): <gurobi.Constr *Awaiting Model Update*>,\n",
       " (3, 12): <gurobi.Constr *Awaiting Model Update*>,\n",
       " (3, 13): <gurobi.Constr *Awaiting Model Update*>,\n",
       " (3, 14): <gurobi.Constr *Awaiting Model Update*>,\n",
       " (3, 15): <gurobi.Constr *Awaiting Model Update*>,\n",
       " (3, 16): <gurobi.Constr *Awaiting Model Update*>,\n",
       " (3, 17): <gurobi.Constr *Awaiting Model Update*>,\n",
       " (3, 18): <gurobi.Constr *Awaiting Model Update*>,\n",
       " (3, 19): <gurobi.Constr *Awaiting Model Update*>,\n",
       " (3, 20): <gurobi.Constr *Awaiting Model Update*>,\n",
       " (3, 21): <gurobi.Constr *Awaiting Model Update*>,\n",
       " (3, 22): <gurobi.Constr *Awaiting Model Update*>,\n",
       " (3, 23): <gurobi.Constr *Awaiting Model Update*>,\n",
       " (3, 24): <gurobi.Constr *Awaiting Model Update*>,\n",
       " (3, 25): <gurobi.Constr *Awaiting Model Update*>,\n",
       " (4, 1): <gurobi.Constr *Awaiting Model Update*>,\n",
       " (4, 2): <gurobi.Constr *Awaiting Model Update*>,\n",
       " (4, 3): <gurobi.Constr *Awaiting Model Update*>,\n",
       " (4, 4): <gurobi.Constr *Awaiting Model Update*>,\n",
       " (4, 5): <gurobi.Constr *Awaiting Model Update*>,\n",
       " (4, 6): <gurobi.Constr *Awaiting Model Update*>,\n",
       " (4, 7): <gurobi.Constr *Awaiting Model Update*>,\n",
       " (4, 8): <gurobi.Constr *Awaiting Model Update*>,\n",
       " (4, 9): <gurobi.Constr *Awaiting Model Update*>,\n",
       " (4, 10): <gurobi.Constr *Awaiting Model Update*>,\n",
       " (4, 11): <gurobi.Constr *Awaiting Model Update*>,\n",
       " (4, 13): <gurobi.Constr *Awaiting Model Update*>,\n",
       " (4, 14): <gurobi.Constr *Awaiting Model Update*>,\n",
       " (4, 16): <gurobi.Constr *Awaiting Model Update*>,\n",
       " (4, 17): <gurobi.Constr *Awaiting Model Update*>,\n",
       " (4, 18): <gurobi.Constr *Awaiting Model Update*>,\n",
       " (4, 19): <gurobi.Constr *Awaiting Model Update*>,\n",
       " (4, 20): <gurobi.Constr *Awaiting Model Update*>,\n",
       " (4, 21): <gurobi.Constr *Awaiting Model Update*>,\n",
       " (4, 23): <gurobi.Constr *Awaiting Model Update*>,\n",
       " (4, 24): <gurobi.Constr *Awaiting Model Update*>,\n",
       " (4, 25): <gurobi.Constr *Awaiting Model Update*>,\n",
       " (5, 1): <gurobi.Constr *Awaiting Model Update*>,\n",
       " (5, 2): <gurobi.Constr *Awaiting Model Update*>,\n",
       " (5, 3): <gurobi.Constr *Awaiting Model Update*>,\n",
       " (5, 4): <gurobi.Constr *Awaiting Model Update*>,\n",
       " (5, 5): <gurobi.Constr *Awaiting Model Update*>,\n",
       " (5, 6): <gurobi.Constr *Awaiting Model Update*>,\n",
       " (5, 7): <gurobi.Constr *Awaiting Model Update*>,\n",
       " (5, 8): <gurobi.Constr *Awaiting Model Update*>,\n",
       " (5, 9): <gurobi.Constr *Awaiting Model Update*>,\n",
       " (5, 11): <gurobi.Constr *Awaiting Model Update*>,\n",
       " (5, 12): <gurobi.Constr *Awaiting Model Update*>,\n",
       " (5, 13): <gurobi.Constr *Awaiting Model Update*>,\n",
       " (5, 14): <gurobi.Constr *Awaiting Model Update*>,\n",
       " (5, 15): <gurobi.Constr *Awaiting Model Update*>,\n",
       " (5, 16): <gurobi.Constr *Awaiting Model Update*>,\n",
       " (5, 17): <gurobi.Constr *Awaiting Model Update*>,\n",
       " (5, 18): <gurobi.Constr *Awaiting Model Update*>,\n",
       " (5, 19): <gurobi.Constr *Awaiting Model Update*>,\n",
       " (5, 20): <gurobi.Constr *Awaiting Model Update*>,\n",
       " (5, 22): <gurobi.Constr *Awaiting Model Update*>,\n",
       " (5, 23): <gurobi.Constr *Awaiting Model Update*>,\n",
       " (5, 24): <gurobi.Constr *Awaiting Model Update*>,\n",
       " (5, 25): <gurobi.Constr *Awaiting Model Update*>,\n",
       " (6, 1): <gurobi.Constr *Awaiting Model Update*>,\n",
       " (6, 2): <gurobi.Constr *Awaiting Model Update*>,\n",
       " (6, 3): <gurobi.Constr *Awaiting Model Update*>,\n",
       " (6, 4): <gurobi.Constr *Awaiting Model Update*>,\n",
       " (6, 5): <gurobi.Constr *Awaiting Model Update*>,\n",
       " (6, 6): <gurobi.Constr *Awaiting Model Update*>,\n",
       " (6, 7): <gurobi.Constr *Awaiting Model Update*>,\n",
       " (6, 8): <gurobi.Constr *Awaiting Model Update*>,\n",
       " (6, 9): <gurobi.Constr *Awaiting Model Update*>,\n",
       " (6, 10): <gurobi.Constr *Awaiting Model Update*>,\n",
       " (6, 11): <gurobi.Constr *Awaiting Model Update*>,\n",
       " (6, 12): <gurobi.Constr *Awaiting Model Update*>,\n",
       " (6, 13): <gurobi.Constr *Awaiting Model Update*>,\n",
       " (6, 15): <gurobi.Constr *Awaiting Model Update*>,\n",
       " (6, 16): <gurobi.Constr *Awaiting Model Update*>,\n",
       " (6, 17): <gurobi.Constr *Awaiting Model Update*>,\n",
       " (6, 18): <gurobi.Constr *Awaiting Model Update*>,\n",
       " (6, 19): <gurobi.Constr *Awaiting Model Update*>,\n",
       " (6, 20): <gurobi.Constr *Awaiting Model Update*>,\n",
       " (6, 21): <gurobi.Constr *Awaiting Model Update*>,\n",
       " (6, 22): <gurobi.Constr *Awaiting Model Update*>,\n",
       " (6, 23): <gurobi.Constr *Awaiting Model Update*>,\n",
       " (6, 24): <gurobi.Constr *Awaiting Model Update*>,\n",
       " (6, 25): <gurobi.Constr *Awaiting Model Update*>,\n",
       " (7, 1): <gurobi.Constr *Awaiting Model Update*>,\n",
       " (7, 2): <gurobi.Constr *Awaiting Model Update*>,\n",
       " (7, 3): <gurobi.Constr *Awaiting Model Update*>,\n",
       " (7, 4): <gurobi.Constr *Awaiting Model Update*>,\n",
       " (7, 5): <gurobi.Constr *Awaiting Model Update*>,\n",
       " (7, 6): <gurobi.Constr *Awaiting Model Update*>,\n",
       " (7, 7): <gurobi.Constr *Awaiting Model Update*>,\n",
       " (7, 8): <gurobi.Constr *Awaiting Model Update*>,\n",
       " (7, 9): <gurobi.Constr *Awaiting Model Update*>,\n",
       " (7, 11): <gurobi.Constr *Awaiting Model Update*>,\n",
       " (7, 12): <gurobi.Constr *Awaiting Model Update*>,\n",
       " (7, 13): <gurobi.Constr *Awaiting Model Update*>,\n",
       " (7, 14): <gurobi.Constr *Awaiting Model Update*>,\n",
       " (7, 15): <gurobi.Constr *Awaiting Model Update*>,\n",
       " (7, 16): <gurobi.Constr *Awaiting Model Update*>,\n",
       " (7, 17): <gurobi.Constr *Awaiting Model Update*>,\n",
       " (7, 18): <gurobi.Constr *Awaiting Model Update*>,\n",
       " (7, 19): <gurobi.Constr *Awaiting Model Update*>,\n",
       " (7, 20): <gurobi.Constr *Awaiting Model Update*>,\n",
       " (7, 22): <gurobi.Constr *Awaiting Model Update*>,\n",
       " (7, 23): <gurobi.Constr *Awaiting Model Update*>,\n",
       " (7, 24): <gurobi.Constr *Awaiting Model Update*>,\n",
       " (7, 25): <gurobi.Constr *Awaiting Model Update*>,\n",
       " (8, 1): <gurobi.Constr *Awaiting Model Update*>,\n",
       " (8, 2): <gurobi.Constr *Awaiting Model Update*>,\n",
       " (8, 3): <gurobi.Constr *Awaiting Model Update*>,\n",
       " (8, 4): <gurobi.Constr *Awaiting Model Update*>,\n",
       " (8, 5): <gurobi.Constr *Awaiting Model Update*>,\n",
       " (8, 6): <gurobi.Constr *Awaiting Model Update*>,\n",
       " (8, 7): <gurobi.Constr *Awaiting Model Update*>,\n",
       " (8, 8): <gurobi.Constr *Awaiting Model Update*>,\n",
       " (8, 9): <gurobi.Constr *Awaiting Model Update*>,\n",
       " (8, 10): <gurobi.Constr *Awaiting Model Update*>,\n",
       " (8, 11): <gurobi.Constr *Awaiting Model Update*>,\n",
       " (8, 12): <gurobi.Constr *Awaiting Model Update*>,\n",
       " (8, 13): <gurobi.Constr *Awaiting Model Update*>,\n",
       " (8, 14): <gurobi.Constr *Awaiting Model Update*>,\n",
       " (8, 15): <gurobi.Constr *Awaiting Model Update*>,\n",
       " (8, 16): <gurobi.Constr *Awaiting Model Update*>,\n",
       " (8, 18): <gurobi.Constr *Awaiting Model Update*>,\n",
       " (8, 19): <gurobi.Constr *Awaiting Model Update*>,\n",
       " (8, 20): <gurobi.Constr *Awaiting Model Update*>,\n",
       " (8, 21): <gurobi.Constr *Awaiting Model Update*>,\n",
       " (8, 22): <gurobi.Constr *Awaiting Model Update*>,\n",
       " (8, 24): <gurobi.Constr *Awaiting Model Update*>,\n",
       " (8, 25): <gurobi.Constr *Awaiting Model Update*>,\n",
       " (9, 1): <gurobi.Constr *Awaiting Model Update*>,\n",
       " (9, 2): <gurobi.Constr *Awaiting Model Update*>,\n",
       " (9, 3): <gurobi.Constr *Awaiting Model Update*>,\n",
       " (9, 4): <gurobi.Constr *Awaiting Model Update*>,\n",
       " (9, 5): <gurobi.Constr *Awaiting Model Update*>,\n",
       " (9, 6): <gurobi.Constr *Awaiting Model Update*>,\n",
       " (9, 7): <gurobi.Constr *Awaiting Model Update*>,\n",
       " (9, 8): <gurobi.Constr *Awaiting Model Update*>,\n",
       " (9, 9): <gurobi.Constr *Awaiting Model Update*>,\n",
       " (9, 10): <gurobi.Constr *Awaiting Model Update*>,\n",
       " (9, 11): <gurobi.Constr *Awaiting Model Update*>,\n",
       " (9, 13): <gurobi.Constr *Awaiting Model Update*>,\n",
       " (9, 14): <gurobi.Constr *Awaiting Model Update*>,\n",
       " (9, 16): <gurobi.Constr *Awaiting Model Update*>,\n",
       " (9, 17): <gurobi.Constr *Awaiting Model Update*>,\n",
       " (9, 18): <gurobi.Constr *Awaiting Model Update*>,\n",
       " (9, 19): <gurobi.Constr *Awaiting Model Update*>,\n",
       " (9, 20): <gurobi.Constr *Awaiting Model Update*>,\n",
       " (9, 21): <gurobi.Constr *Awaiting Model Update*>,\n",
       " (9, 23): <gurobi.Constr *Awaiting Model Update*>,\n",
       " (9, 24): <gurobi.Constr *Awaiting Model Update*>,\n",
       " (9, 25): <gurobi.Constr *Awaiting Model Update*>,\n",
       " (10, 1): <gurobi.Constr *Awaiting Model Update*>,\n",
       " (10, 2): <gurobi.Constr *Awaiting Model Update*>,\n",
       " (10, 3): <gurobi.Constr *Awaiting Model Update*>,\n",
       " (10, 4): <gurobi.Constr *Awaiting Model Update*>,\n",
       " (10, 5): <gurobi.Constr *Awaiting Model Update*>,\n",
       " (10, 6): <gurobi.Constr *Awaiting Model Update*>,\n",
       " (10, 7): <gurobi.Constr *Awaiting Model Update*>,\n",
       " (10, 8): <gurobi.Constr *Awaiting Model Update*>,\n",
       " (10, 9): <gurobi.Constr *Awaiting Model Update*>,\n",
       " (10, 10): <gurobi.Constr *Awaiting Model Update*>,\n",
       " (10, 11): <gurobi.Constr *Awaiting Model Update*>,\n",
       " (10, 12): <gurobi.Constr *Awaiting Model Update*>,\n",
       " (10, 14): <gurobi.Constr *Awaiting Model Update*>,\n",
       " (10, 15): <gurobi.Constr *Awaiting Model Update*>,\n",
       " (10, 17): <gurobi.Constr *Awaiting Model Update*>,\n",
       " (10, 18): <gurobi.Constr *Awaiting Model Update*>,\n",
       " (10, 19): <gurobi.Constr *Awaiting Model Update*>,\n",
       " (10, 20): <gurobi.Constr *Awaiting Model Update*>,\n",
       " (10, 21): <gurobi.Constr *Awaiting Model Update*>,\n",
       " (10, 22): <gurobi.Constr *Awaiting Model Update*>,\n",
       " (10, 23): <gurobi.Constr *Awaiting Model Update*>,\n",
       " (10, 24): <gurobi.Constr *Awaiting Model Update*>,\n",
       " (10, 25): <gurobi.Constr *Awaiting Model Update*>,\n",
       " (11, 1): <gurobi.Constr *Awaiting Model Update*>,\n",
       " (11, 5): <gurobi.Constr *Awaiting Model Update*>,\n",
       " (11, 8): <gurobi.Constr *Awaiting Model Update*>,\n",
       " (11, 9): <gurobi.Constr *Awaiting Model Update*>,\n",
       " (11, 10): <gurobi.Constr *Awaiting Model Update*>,\n",
       " (11, 11): <gurobi.Constr *Awaiting Model Update*>,\n",
       " (11, 12): <gurobi.Constr *Awaiting Model Update*>,\n",
       " (11, 13): <gurobi.Constr *Awaiting Model Update*>,\n",
       " (11, 14): <gurobi.Constr *Awaiting Model Update*>,\n",
       " (11, 15): <gurobi.Constr *Awaiting Model Update*>,\n",
       " (11, 16): <gurobi.Constr *Awaiting Model Update*>,\n",
       " (11, 17): <gurobi.Constr *Awaiting Model Update*>,\n",
       " (11, 18): <gurobi.Constr *Awaiting Model Update*>,\n",
       " (11, 20): <gurobi.Constr *Awaiting Model Update*>,\n",
       " (11, 21): <gurobi.Constr *Awaiting Model Update*>,\n",
       " (11, 22): <gurobi.Constr *Awaiting Model Update*>,\n",
       " (11, 23): <gurobi.Constr *Awaiting Model Update*>,\n",
       " (11, 25): <gurobi.Constr *Awaiting Model Update*>,\n",
       " (12, 1): <gurobi.Constr *Awaiting Model Update*>,\n",
       " (12, 2): <gurobi.Constr *Awaiting Model Update*>,\n",
       " (12, 3): <gurobi.Constr *Awaiting Model Update*>,\n",
       " (12, 4): <gurobi.Constr *Awaiting Model Update*>,\n",
       " (12, 5): <gurobi.Constr *Awaiting Model Update*>,\n",
       " (12, 6): <gurobi.Constr *Awaiting Model Update*>,\n",
       " (12, 7): <gurobi.Constr *Awaiting Model Update*>,\n",
       " (12, 8): <gurobi.Constr *Awaiting Model Update*>,\n",
       " (12, 9): <gurobi.Constr *Awaiting Model Update*>,\n",
       " (12, 10): <gurobi.Constr *Awaiting Model Update*>,\n",
       " (12, 11): <gurobi.Constr *Awaiting Model Update*>,\n",
       " (12, 12): <gurobi.Constr *Awaiting Model Update*>,\n",
       " (12, 13): <gurobi.Constr *Awaiting Model Update*>,\n",
       " (12, 15): <gurobi.Constr *Awaiting Model Update*>,\n",
       " (12, 16): <gurobi.Constr *Awaiting Model Update*>,\n",
       " (12, 17): <gurobi.Constr *Awaiting Model Update*>,\n",
       " (12, 18): <gurobi.Constr *Awaiting Model Update*>,\n",
       " (12, 19): <gurobi.Constr *Awaiting Model Update*>,\n",
       " (12, 20): <gurobi.Constr *Awaiting Model Update*>,\n",
       " (12, 21): <gurobi.Constr *Awaiting Model Update*>,\n",
       " (12, 22): <gurobi.Constr *Awaiting Model Update*>,\n",
       " (12, 23): <gurobi.Constr *Awaiting Model Update*>,\n",
       " (12, 24): <gurobi.Constr *Awaiting Model Update*>,\n",
       " (12, 25): <gurobi.Constr *Awaiting Model Update*>,\n",
       " (13, 1): <gurobi.Constr *Awaiting Model Update*>,\n",
       " (13, 2): <gurobi.Constr *Awaiting Model Update*>,\n",
       " (13, 3): <gurobi.Constr *Awaiting Model Update*>,\n",
       " (13, 4): <gurobi.Constr *Awaiting Model Update*>,\n",
       " (13, 5): <gurobi.Constr *Awaiting Model Update*>,\n",
       " (13, 6): <gurobi.Constr *Awaiting Model Update*>,\n",
       " (13, 7): <gurobi.Constr *Awaiting Model Update*>,\n",
       " (13, 8): <gurobi.Constr *Awaiting Model Update*>,\n",
       " (13, 9): <gurobi.Constr *Awaiting Model Update*>,\n",
       " (13, 10): <gurobi.Constr *Awaiting Model Update*>,\n",
       " (13, 11): <gurobi.Constr *Awaiting Model Update*>,\n",
       " (13, 12): <gurobi.Constr *Awaiting Model Update*>,\n",
       " (13, 13): <gurobi.Constr *Awaiting Model Update*>,\n",
       " (13, 14): <gurobi.Constr *Awaiting Model Update*>,\n",
       " (13, 15): <gurobi.Constr *Awaiting Model Update*>,\n",
       " (13, 16): <gurobi.Constr *Awaiting Model Update*>,\n",
       " (13, 17): <gurobi.Constr *Awaiting Model Update*>,\n",
       " (13, 18): <gurobi.Constr *Awaiting Model Update*>,\n",
       " (13, 19): <gurobi.Constr *Awaiting Model Update*>,\n",
       " (13, 20): <gurobi.Constr *Awaiting Model Update*>,\n",
       " (13, 21): <gurobi.Constr *Awaiting Model Update*>,\n",
       " (13, 22): <gurobi.Constr *Awaiting Model Update*>,\n",
       " (13, 23): <gurobi.Constr *Awaiting Model Update*>,\n",
       " (13, 24): <gurobi.Constr *Awaiting Model Update*>,\n",
       " (13, 25): <gurobi.Constr *Awaiting Model Update*>,\n",
       " (14, 1): <gurobi.Constr *Awaiting Model Update*>,\n",
       " (14, 5): <gurobi.Constr *Awaiting Model Update*>,\n",
       " (14, 7): <gurobi.Constr *Awaiting Model Update*>,\n",
       " (14, 8): <gurobi.Constr *Awaiting Model Update*>,\n",
       " (14, 9): <gurobi.Constr *Awaiting Model Update*>,\n",
       " (14, 10): <gurobi.Constr *Awaiting Model Update*>,\n",
       " (14, 11): <gurobi.Constr *Awaiting Model Update*>,\n",
       " (14, 12): <gurobi.Constr *Awaiting Model Update*>,\n",
       " (14, 13): <gurobi.Constr *Awaiting Model Update*>,\n",
       " (14, 14): <gurobi.Constr *Awaiting Model Update*>,\n",
       " (14, 15): <gurobi.Constr *Awaiting Model Update*>,\n",
       " (14, 16): <gurobi.Constr *Awaiting Model Update*>,\n",
       " (14, 17): <gurobi.Constr *Awaiting Model Update*>,\n",
       " (14, 18): <gurobi.Constr *Awaiting Model Update*>,\n",
       " (14, 19): <gurobi.Constr *Awaiting Model Update*>,\n",
       " (14, 20): <gurobi.Constr *Awaiting Model Update*>,\n",
       " (14, 21): <gurobi.Constr *Awaiting Model Update*>,\n",
       " (14, 22): <gurobi.Constr *Awaiting Model Update*>,\n",
       " (14, 23): <gurobi.Constr *Awaiting Model Update*>,\n",
       " (14, 24): <gurobi.Constr *Awaiting Model Update*>,\n",
       " (14, 25): <gurobi.Constr *Awaiting Model Update*>,\n",
       " (15, 1): <gurobi.Constr *Awaiting Model Update*>,\n",
       " (15, 3): <gurobi.Constr *Awaiting Model Update*>,\n",
       " (15, 4): <gurobi.Constr *Awaiting Model Update*>,\n",
       " (15, 5): <gurobi.Constr *Awaiting Model Update*>,\n",
       " (15, 6): <gurobi.Constr *Awaiting Model Update*>,\n",
       " (15, 8): <gurobi.Constr *Awaiting Model Update*>,\n",
       " (15, 9): <gurobi.Constr *Awaiting Model Update*>,\n",
       " (15, 10): <gurobi.Constr *Awaiting Model Update*>,\n",
       " (15, 11): <gurobi.Constr *Awaiting Model Update*>,\n",
       " (15, 12): <gurobi.Constr *Awaiting Model Update*>,\n",
       " (15, 13): <gurobi.Constr *Awaiting Model Update*>,\n",
       " (15, 14): <gurobi.Constr *Awaiting Model Update*>,\n",
       " (15, 15): <gurobi.Constr *Awaiting Model Update*>,\n",
       " (15, 16): <gurobi.Constr *Awaiting Model Update*>,\n",
       " (15, 17): <gurobi.Constr *Awaiting Model Update*>,\n",
       " (15, 18): <gurobi.Constr *Awaiting Model Update*>,\n",
       " (15, 19): <gurobi.Constr *Awaiting Model Update*>,\n",
       " (15, 20): <gurobi.Constr *Awaiting Model Update*>,\n",
       " (15, 21): <gurobi.Constr *Awaiting Model Update*>,\n",
       " (15, 22): <gurobi.Constr *Awaiting Model Update*>,\n",
       " (15, 23): <gurobi.Constr *Awaiting Model Update*>,\n",
       " (15, 24): <gurobi.Constr *Awaiting Model Update*>,\n",
       " (15, 25): <gurobi.Constr *Awaiting Model Update*>,\n",
       " (16, 1): <gurobi.Constr *Awaiting Model Update*>,\n",
       " (16, 2): <gurobi.Constr *Awaiting Model Update*>,\n",
       " (16, 3): <gurobi.Constr *Awaiting Model Update*>,\n",
       " (16, 4): <gurobi.Constr *Awaiting Model Update*>,\n",
       " (16, 5): <gurobi.Constr *Awaiting Model Update*>,\n",
       " (16, 6): <gurobi.Constr *Awaiting Model Update*>,\n",
       " (16, 7): <gurobi.Constr *Awaiting Model Update*>,\n",
       " (16, 8): <gurobi.Constr *Awaiting Model Update*>,\n",
       " (16, 9): <gurobi.Constr *Awaiting Model Update*>,\n",
       " (16, 10): <gurobi.Constr *Awaiting Model Update*>,\n",
       " (16, 11): <gurobi.Constr *Awaiting Model Update*>,\n",
       " (16, 12): <gurobi.Constr *Awaiting Model Update*>,\n",
       " (16, 13): <gurobi.Constr *Awaiting Model Update*>,\n",
       " (16, 14): <gurobi.Constr *Awaiting Model Update*>,\n",
       " (16, 15): <gurobi.Constr *Awaiting Model Update*>,\n",
       " (16, 16): <gurobi.Constr *Awaiting Model Update*>,\n",
       " (16, 18): <gurobi.Constr *Awaiting Model Update*>,\n",
       " (16, 19): <gurobi.Constr *Awaiting Model Update*>,\n",
       " (16, 20): <gurobi.Constr *Awaiting Model Update*>,\n",
       " (16, 21): <gurobi.Constr *Awaiting Model Update*>,\n",
       " (16, 22): <gurobi.Constr *Awaiting Model Update*>,\n",
       " (16, 24): <gurobi.Constr *Awaiting Model Update*>,\n",
       " (16, 25): <gurobi.Constr *Awaiting Model Update*>,\n",
       " (17, 1): <gurobi.Constr *Awaiting Model Update*>,\n",
       " (17, 2): <gurobi.Constr *Awaiting Model Update*>,\n",
       " (17, 3): <gurobi.Constr *Awaiting Model Update*>,\n",
       " (17, 4): <gurobi.Constr *Awaiting Model Update*>,\n",
       " (17, 5): <gurobi.Constr *Awaiting Model Update*>,\n",
       " (17, 6): <gurobi.Constr *Awaiting Model Update*>,\n",
       " (17, 7): <gurobi.Constr *Awaiting Model Update*>,\n",
       " (17, 8): <gurobi.Constr *Awaiting Model Update*>,\n",
       " (17, 9): <gurobi.Constr *Awaiting Model Update*>,\n",
       " (17, 11): <gurobi.Constr *Awaiting Model Update*>,\n",
       " (17, 12): <gurobi.Constr *Awaiting Model Update*>,\n",
       " (17, 13): <gurobi.Constr *Awaiting Model Update*>,\n",
       " (17, 14): <gurobi.Constr *Awaiting Model Update*>,\n",
       " (17, 15): <gurobi.Constr *Awaiting Model Update*>,\n",
       " (17, 16): <gurobi.Constr *Awaiting Model Update*>,\n",
       " (17, 17): <gurobi.Constr *Awaiting Model Update*>,\n",
       " (17, 18): <gurobi.Constr *Awaiting Model Update*>,\n",
       " (17, 19): <gurobi.Constr *Awaiting Model Update*>,\n",
       " (17, 20): <gurobi.Constr *Awaiting Model Update*>,\n",
       " (17, 22): <gurobi.Constr *Awaiting Model Update*>,\n",
       " (17, 23): <gurobi.Constr *Awaiting Model Update*>,\n",
       " (17, 24): <gurobi.Constr *Awaiting Model Update*>,\n",
       " (17, 25): <gurobi.Constr *Awaiting Model Update*>,\n",
       " (18, 1): <gurobi.Constr *Awaiting Model Update*>,\n",
       " (18, 2): <gurobi.Constr *Awaiting Model Update*>,\n",
       " (18, 3): <gurobi.Constr *Awaiting Model Update*>,\n",
       " (18, 4): <gurobi.Constr *Awaiting Model Update*>,\n",
       " (18, 5): <gurobi.Constr *Awaiting Model Update*>,\n",
       " (18, 6): <gurobi.Constr *Awaiting Model Update*>,\n",
       " (18, 7): <gurobi.Constr *Awaiting Model Update*>,\n",
       " (18, 8): <gurobi.Constr *Awaiting Model Update*>,\n",
       " (18, 9): <gurobi.Constr *Awaiting Model Update*>,\n",
       " (18, 10): <gurobi.Constr *Awaiting Model Update*>,\n",
       " (18, 11): <gurobi.Constr *Awaiting Model Update*>,\n",
       " (18, 12): <gurobi.Constr *Awaiting Model Update*>,\n",
       " (18, 14): <gurobi.Constr *Awaiting Model Update*>,\n",
       " (18, 15): <gurobi.Constr *Awaiting Model Update*>,\n",
       " (18, 17): <gurobi.Constr *Awaiting Model Update*>,\n",
       " (18, 18): <gurobi.Constr *Awaiting Model Update*>,\n",
       " (18, 19): <gurobi.Constr *Awaiting Model Update*>,\n",
       " (18, 20): <gurobi.Constr *Awaiting Model Update*>,\n",
       " (18, 21): <gurobi.Constr *Awaiting Model Update*>,\n",
       " (18, 22): <gurobi.Constr *Awaiting Model Update*>,\n",
       " (18, 23): <gurobi.Constr *Awaiting Model Update*>,\n",
       " (18, 24): <gurobi.Constr *Awaiting Model Update*>,\n",
       " (18, 25): <gurobi.Constr *Awaiting Model Update*>,\n",
       " (19, 1): <gurobi.Constr *Awaiting Model Update*>,\n",
       " (19, 2): <gurobi.Constr *Awaiting Model Update*>,\n",
       " (19, 3): <gurobi.Constr *Awaiting Model Update*>,\n",
       " (19, 4): <gurobi.Constr *Awaiting Model Update*>,\n",
       " (19, 5): <gurobi.Constr *Awaiting Model Update*>,\n",
       " (19, 6): <gurobi.Constr *Awaiting Model Update*>,\n",
       " (19, 7): <gurobi.Constr *Awaiting Model Update*>,\n",
       " (19, 8): <gurobi.Constr *Awaiting Model Update*>,\n",
       " (19, 9): <gurobi.Constr *Awaiting Model Update*>,\n",
       " (19, 10): <gurobi.Constr *Awaiting Model Update*>,\n",
       " (19, 11): <gurobi.Constr *Awaiting Model Update*>,\n",
       " (19, 12): <gurobi.Constr *Awaiting Model Update*>,\n",
       " (19, 13): <gurobi.Constr *Awaiting Model Update*>,\n",
       " (19, 14): <gurobi.Constr *Awaiting Model Update*>,\n",
       " (19, 15): <gurobi.Constr *Awaiting Model Update*>,\n",
       " (19, 16): <gurobi.Constr *Awaiting Model Update*>,\n",
       " (19, 18): <gurobi.Constr *Awaiting Model Update*>,\n",
       " (19, 19): <gurobi.Constr *Awaiting Model Update*>,\n",
       " (19, 20): <gurobi.Constr *Awaiting Model Update*>,\n",
       " (19, 21): <gurobi.Constr *Awaiting Model Update*>,\n",
       " (19, 22): <gurobi.Constr *Awaiting Model Update*>,\n",
       " (19, 24): <gurobi.Constr *Awaiting Model Update*>,\n",
       " (19, 25): <gurobi.Constr *Awaiting Model Update*>,\n",
       " (20, 1): <gurobi.Constr *Awaiting Model Update*>,\n",
       " (20, 2): <gurobi.Constr *Awaiting Model Update*>,\n",
       " (20, 3): <gurobi.Constr *Awaiting Model Update*>,\n",
       " (20, 4): <gurobi.Constr *Awaiting Model Update*>,\n",
       " (20, 5): <gurobi.Constr *Awaiting Model Update*>,\n",
       " (20, 6): <gurobi.Constr *Awaiting Model Update*>,\n",
       " (20, 7): <gurobi.Constr *Awaiting Model Update*>,\n",
       " (20, 8): <gurobi.Constr *Awaiting Model Update*>,\n",
       " (20, 9): <gurobi.Constr *Awaiting Model Update*>,\n",
       " (20, 12): <gurobi.Constr *Awaiting Model Update*>,\n",
       " (20, 14): <gurobi.Constr *Awaiting Model Update*>,\n",
       " (20, 15): <gurobi.Constr *Awaiting Model Update*>,\n",
       " (20, 17): <gurobi.Constr *Awaiting Model Update*>,\n",
       " (20, 18): <gurobi.Constr *Awaiting Model Update*>,\n",
       " (20, 19): <gurobi.Constr *Awaiting Model Update*>,\n",
       " (20, 20): <gurobi.Constr *Awaiting Model Update*>,\n",
       " (20, 22): <gurobi.Constr *Awaiting Model Update*>,\n",
       " (20, 23): <gurobi.Constr *Awaiting Model Update*>,\n",
       " (20, 24): <gurobi.Constr *Awaiting Model Update*>,\n",
       " (20, 25): <gurobi.Constr *Awaiting Model Update*>,\n",
       " (21, 1): <gurobi.Constr *Awaiting Model Update*>,\n",
       " (21, 2): <gurobi.Constr *Awaiting Model Update*>,\n",
       " (21, 3): <gurobi.Constr *Awaiting Model Update*>,\n",
       " (21, 4): <gurobi.Constr *Awaiting Model Update*>,\n",
       " (21, 5): <gurobi.Constr *Awaiting Model Update*>,\n",
       " (21, 6): <gurobi.Constr *Awaiting Model Update*>,\n",
       " (21, 7): <gurobi.Constr *Awaiting Model Update*>,\n",
       " (21, 8): <gurobi.Constr *Awaiting Model Update*>,\n",
       " (21, 9): <gurobi.Constr *Awaiting Model Update*>,\n",
       " (21, 10): <gurobi.Constr *Awaiting Model Update*>,\n",
       " (21, 11): <gurobi.Constr *Awaiting Model Update*>,\n",
       " (21, 12): <gurobi.Constr *Awaiting Model Update*>,\n",
       " (21, 13): <gurobi.Constr *Awaiting Model Update*>,\n",
       " (21, 14): <gurobi.Constr *Awaiting Model Update*>,\n",
       " (21, 15): <gurobi.Constr *Awaiting Model Update*>,\n",
       " (21, 16): <gurobi.Constr *Awaiting Model Update*>,\n",
       " (21, 17): <gurobi.Constr *Awaiting Model Update*>,\n",
       " (21, 18): <gurobi.Constr *Awaiting Model Update*>,\n",
       " (21, 19): <gurobi.Constr *Awaiting Model Update*>,\n",
       " (21, 20): <gurobi.Constr *Awaiting Model Update*>,\n",
       " (21, 21): <gurobi.Constr *Awaiting Model Update*>,\n",
       " (21, 22): <gurobi.Constr *Awaiting Model Update*>,\n",
       " (21, 23): <gurobi.Constr *Awaiting Model Update*>,\n",
       " (21, 24): <gurobi.Constr *Awaiting Model Update*>,\n",
       " (21, 25): <gurobi.Constr *Awaiting Model Update*>,\n",
       " (22, 1): <gurobi.Constr *Awaiting Model Update*>,\n",
       " (22, 5): <gurobi.Constr *Awaiting Model Update*>,\n",
       " (22, 7): <gurobi.Constr *Awaiting Model Update*>,\n",
       " (22, 8): <gurobi.Constr *Awaiting Model Update*>,\n",
       " (22, 9): <gurobi.Constr *Awaiting Model Update*>,\n",
       " (22, 10): <gurobi.Constr *Awaiting Model Update*>,\n",
       " (22, 11): <gurobi.Constr *Awaiting Model Update*>,\n",
       " (22, 12): <gurobi.Constr *Awaiting Model Update*>,\n",
       " (22, 13): <gurobi.Constr *Awaiting Model Update*>,\n",
       " (22, 14): <gurobi.Constr *Awaiting Model Update*>,\n",
       " (22, 15): <gurobi.Constr *Awaiting Model Update*>,\n",
       " (22, 16): <gurobi.Constr *Awaiting Model Update*>,\n",
       " (22, 17): <gurobi.Constr *Awaiting Model Update*>,\n",
       " (22, 18): <gurobi.Constr *Awaiting Model Update*>,\n",
       " (22, 19): <gurobi.Constr *Awaiting Model Update*>,\n",
       " (22, 20): <gurobi.Constr *Awaiting Model Update*>,\n",
       " (22, 21): <gurobi.Constr *Awaiting Model Update*>,\n",
       " (22, 22): <gurobi.Constr *Awaiting Model Update*>,\n",
       " (22, 23): <gurobi.Constr *Awaiting Model Update*>,\n",
       " (22, 24): <gurobi.Constr *Awaiting Model Update*>,\n",
       " (22, 25): <gurobi.Constr *Awaiting Model Update*>,\n",
       " (23, 2): <gurobi.Constr *Awaiting Model Update*>,\n",
       " (23, 3): <gurobi.Constr *Awaiting Model Update*>,\n",
       " (23, 4): <gurobi.Constr *Awaiting Model Update*>,\n",
       " (23, 5): <gurobi.Constr *Awaiting Model Update*>,\n",
       " (23, 6): <gurobi.Constr *Awaiting Model Update*>,\n",
       " (23, 7): <gurobi.Constr *Awaiting Model Update*>,\n",
       " (23, 10): <gurobi.Constr *Awaiting Model Update*>,\n",
       " (23, 11): <gurobi.Constr *Awaiting Model Update*>,\n",
       " (23, 12): <gurobi.Constr *Awaiting Model Update*>,\n",
       " (23, 13): <gurobi.Constr *Awaiting Model Update*>,\n",
       " (23, 14): <gurobi.Constr *Awaiting Model Update*>,\n",
       " (23, 15): <gurobi.Constr *Awaiting Model Update*>,\n",
       " (23, 16): <gurobi.Constr *Awaiting Model Update*>,\n",
       " (23, 19): <gurobi.Constr *Awaiting Model Update*>,\n",
       " (23, 21): <gurobi.Constr *Awaiting Model Update*>,\n",
       " (23, 22): <gurobi.Constr *Awaiting Model Update*>,\n",
       " (23, 24): <gurobi.Constr *Awaiting Model Update*>,\n",
       " (23, 25): <gurobi.Constr *Awaiting Model Update*>,\n",
       " (24, 1): <gurobi.Constr *Awaiting Model Update*>,\n",
       " (24, 2): <gurobi.Constr *Awaiting Model Update*>,\n",
       " (24, 3): <gurobi.Constr *Awaiting Model Update*>,\n",
       " (24, 4): <gurobi.Constr *Awaiting Model Update*>,\n",
       " (24, 5): <gurobi.Constr *Awaiting Model Update*>,\n",
       " (24, 6): <gurobi.Constr *Awaiting Model Update*>,\n",
       " (24, 7): <gurobi.Constr *Awaiting Model Update*>,\n",
       " (24, 8): <gurobi.Constr *Awaiting Model Update*>,\n",
       " (24, 9): <gurobi.Constr *Awaiting Model Update*>,\n",
       " (24, 10): <gurobi.Constr *Awaiting Model Update*>,\n",
       " (24, 11): <gurobi.Constr *Awaiting Model Update*>,\n",
       " (24, 12): <gurobi.Constr *Awaiting Model Update*>,\n",
       " (24, 13): <gurobi.Constr *Awaiting Model Update*>,\n",
       " (24, 15): <gurobi.Constr *Awaiting Model Update*>,\n",
       " (24, 16): <gurobi.Constr *Awaiting Model Update*>,\n",
       " (24, 17): <gurobi.Constr *Awaiting Model Update*>,\n",
       " (24, 18): <gurobi.Constr *Awaiting Model Update*>,\n",
       " (24, 19): <gurobi.Constr *Awaiting Model Update*>,\n",
       " (24, 20): <gurobi.Constr *Awaiting Model Update*>,\n",
       " (24, 21): <gurobi.Constr *Awaiting Model Update*>,\n",
       " (24, 22): <gurobi.Constr *Awaiting Model Update*>,\n",
       " (24, 23): <gurobi.Constr *Awaiting Model Update*>,\n",
       " (24, 24): <gurobi.Constr *Awaiting Model Update*>,\n",
       " (24, 25): <gurobi.Constr *Awaiting Model Update*>,\n",
       " (25, 1): <gurobi.Constr *Awaiting Model Update*>,\n",
       " (25, 2): <gurobi.Constr *Awaiting Model Update*>,\n",
       " (25, 3): <gurobi.Constr *Awaiting Model Update*>,\n",
       " (25, 4): <gurobi.Constr *Awaiting Model Update*>,\n",
       " (25, 5): <gurobi.Constr *Awaiting Model Update*>,\n",
       " (25, 6): <gurobi.Constr *Awaiting Model Update*>,\n",
       " (25, 7): <gurobi.Constr *Awaiting Model Update*>,\n",
       " (25, 8): <gurobi.Constr *Awaiting Model Update*>,\n",
       " (25, 9): <gurobi.Constr *Awaiting Model Update*>,\n",
       " (25, 11): <gurobi.Constr *Awaiting Model Update*>,\n",
       " (25, 12): <gurobi.Constr *Awaiting Model Update*>,\n",
       " (25, 13): <gurobi.Constr *Awaiting Model Update*>,\n",
       " (25, 14): <gurobi.Constr *Awaiting Model Update*>,\n",
       " (25, 15): <gurobi.Constr *Awaiting Model Update*>,\n",
       " (25, 16): <gurobi.Constr *Awaiting Model Update*>,\n",
       " (25, 17): <gurobi.Constr *Awaiting Model Update*>,\n",
       " (25, 18): <gurobi.Constr *Awaiting Model Update*>,\n",
       " (25, 19): <gurobi.Constr *Awaiting Model Update*>,\n",
       " (25, 20): <gurobi.Constr *Awaiting Model Update*>,\n",
       " (25, 22): <gurobi.Constr *Awaiting Model Update*>,\n",
       " (25, 23): <gurobi.Constr *Awaiting Model Update*>,\n",
       " (25, 24): <gurobi.Constr *Awaiting Model Update*>,\n",
       " (25, 25): <gurobi.Constr *Awaiting Model Update*>}"
      ]
     },
     "execution_count": 17,
     "metadata": {},
     "output_type": "execute_result"
    }
   ],
   "source": [
    "# some donations between donor i and patient j is not feasible, therefore we have to set related x[i,j] to 0\n",
    "m.addConstrs(x[i,j]==0 for i in I for j in J if matrix[i-1][j-1] == 0)"
   ]
  },
  {
   "cell_type": "code",
   "execution_count": 18,
   "id": "e51a62db",
   "metadata": {},
   "outputs": [
    {
     "name": "stdout",
     "output_type": "stream",
     "text": [
      "Gurobi Optimizer version 9.5.2 build v9.5.2rc0 (win64)\n",
      "Thread count: 6 physical cores, 12 logical processors, using up to 12 threads\n",
      "Optimize a model with 640 rows, 625 columns and 3015 nonzeros\n",
      "Model fingerprint: 0x8d0bf25d\n",
      "Variable types: 0 continuous, 625 integer (625 binary)\n",
      "Coefficient statistics:\n",
      "  Matrix range     [1e+00, 1e+00]\n",
      "  Objective range  [1e+00, 1e+00]\n",
      "  Bounds range     [1e+00, 1e+00]\n",
      "  RHS range        [1e+00, 1e+00]\n",
      "Found heuristic solution: objective 1.0000000\n",
      "Presolve removed 617 rows and 594 columns\n",
      "Presolve time: 0.00s\n",
      "Presolved: 23 rows, 31 columns, 108 nonzeros\n",
      "Found heuristic solution: objective 11.0000000\n",
      "Variable types: 0 continuous, 31 integer (31 binary)\n",
      "\n",
      "Root relaxation: objective 1.300000e+01, 15 iterations, 0.00 seconds (0.00 work units)\n",
      "\n",
      "    Nodes    |    Current Node    |     Objective Bounds      |     Work\n",
      " Expl Unexpl |  Obj  Depth IntInf | Incumbent    BestBd   Gap | It/Node Time\n",
      "\n",
      "*    0     0               0      13.0000000   13.00000  0.00%     -    0s\n",
      "\n",
      "Explored 1 nodes (15 simplex iterations) in 0.02 seconds (0.00 work units)\n",
      "Thread count was 12 (of 12 available processors)\n",
      "\n",
      "Solution count 3: 13 11 1 \n",
      "\n",
      "Optimal solution found (tolerance 1.00e-04)\n",
      "Best objective 1.300000000000e+01, best bound 1.300000000000e+01, gap 0.0000%\n"
     ]
    }
   ],
   "source": [
    "m.optimize()"
   ]
  },
  {
   "cell_type": "code",
   "execution_count": 19,
   "id": "a792e6ef",
   "metadata": {},
   "outputs": [
    {
     "name": "stdout",
     "output_type": "stream",
     "text": [
      "\n",
      "    Variable            X \n",
      "-------------------------\n",
      "     x[2,15]            1 \n",
      "     x[4,22]            1 \n",
      "     x[6,14]            1 \n",
      "    x[10,16]            1 \n",
      "    x[11,19]            1 \n",
      "     x[14,6]            1 \n",
      "     x[15,2]            1 \n",
      "    x[16,17]            1 \n",
      "    x[17,10]            1 \n",
      "    x[19,23]            1 \n",
      "    x[20,11]            1 \n",
      "     x[22,4]            1 \n",
      "    x[23,20]            1 \n"
     ]
    }
   ],
   "source": [
    "m.printAttr('X')"
   ]
  },
  {
   "cell_type": "markdown",
   "id": "87acf914",
   "metadata": {},
   "source": [
    "## Step 7: Draw the final diagram after optimization"
   ]
  },
  {
   "cell_type": "code",
   "execution_count": 20,
   "id": "cba3ecd6",
   "metadata": {},
   "outputs": [
    {
     "name": "stdout",
     "output_type": "stream",
     "text": [
      "[(2, 15), (4, 22), (6, 14), (10, 16), (11, 19), (14, 6), (15, 2), (16, 17), (17, 10), (19, 23), (20, 11), (22, 4), (23, 20)]\n"
     ]
    }
   ],
   "source": [
    "elist1 = []\n",
    "for i in I:\n",
    "    for j in J:\n",
    "        if str(x[i,j]) == str(\"<gurobi.Var x[{},{}] (value 1.0)>\".format(i,j)):\n",
    "            elist1.append((i,j))\n",
    "print(elist1)"
   ]
  },
  {
   "cell_type": "code",
   "execution_count": 21,
   "id": "a2169ecd",
   "metadata": {},
   "outputs": [
    {
     "name": "stdout",
     "output_type": "stream",
     "text": [
      "[(1, 2), (2, 12), (2, 22), (4, 12), (4, 15), (5, 10), (5, 21), (7, 10), (7, 21), (8, 17), (8, 23), (9, 12), (9, 15), (9, 22), (10, 13), (11, 2), (11, 3), (11, 4), (11, 6), (11, 7), (11, 24), (12, 14), (14, 2), (14, 3), (14, 4), (15, 7), (16, 23), (17, 21), (18, 13), (18, 16), (19, 17), (20, 10), (20, 13), (20, 16), (20, 21), (22, 2), (22, 3), (22, 6), (23, 1), (23, 8), (23, 9), (23, 17), (23, 18), (23, 23), (24, 14), (25, 10), (25, 21)]\n"
     ]
    }
   ],
   "source": [
    "elist2=[item for item in elist if item not in elist1]\n",
    "print(elist2)"
   ]
  },
  {
   "cell_type": "code",
   "execution_count": 42,
   "id": "7e044698",
   "metadata": {},
   "outputs": [
    {
     "data": {
      "image/png": "[encoded data removed]",
      "text/plain": [
       "<Figure size 432x288 with 1 Axes>"
      ]
     },
     "metadata": {},
     "output_type": "display_data"
    }
   ],
   "source": [
    "H = nx.DiGraph()\n",
    "H.add_edges_from(elist2)\n",
    "nx.draw_networkx(H,\n",
    "                pos = nx.circular_layout(H),edge_color=\"k\")\n",
    "H.add_edges_from(elist1)\n",
    "nx.draw_networkx(H,\n",
    "                pos = nx.circular_layout(H),edge_color=\"r\")"
   ]
  },
  {
   "cell_type": "code",
   "execution_count": 93,
   "id": "eb4b2bd2",
   "metadata": {},
   "outputs": [
    {
     "data": {
      "image/png": "[encoded data removed]",
      "text/plain": [
       "<Figure size 432x288 with 1 Axes>"
      ]
     },
     "metadata": {},
     "output_type": "display_data"
    }
   ],
   "source": [
    "elist3=[elist1,elist2]\n",
    "lst1=[]\n",
    "lst2=[]\n",
    "for edge in elist3:\n",
    "    H = nx.DiGraph()\n",
    "    H.add_nodes_from(I)\n",
    "    if edge in elist3[0]:\n",
    "        lst1.append(edge)\n",
    "        H.add_edges_from(lst1)\n",
    "        nx.draw_networkx(H,\n",
    "                 pos = nx.circular_layout(H),\n",
    "                edge_color=\"r\")\n",
    "    elif edge in elist3[1]:\n",
    "        lst2.append(edge)\n",
    "        H.add_edges_from(lst2)\n",
    "        nx.draw_networkx(H,\n",
    "                 pos = nx.circular_layout(H),\n",
    "                edge_color=\"k\")\n",
    "nx.draw_networkx(H)"
   ]
  },
  {
   "cell_type": "code",
   "execution_count": null,
   "id": "71e41418",
   "metadata": {},
   "outputs": [],
   "source": []
  },
  {
   "cell_type": "code",
   "execution_count": 70,
   "id": "6e2e4042",
   "metadata": {},
   "outputs": [],
   "source": [
    "H = nx.DiGraph()\n",
    "H.add_nodes_from(I)\n",
    "H.add_edge(1,2)"
   ]
  },
  {
   "cell_type": "code",
   "execution_count": null,
   "id": "7258cda0",
   "metadata": {},
   "outputs": [],
   "source": []
  },
  {
   "cell_type": "markdown",
   "id": "40f12d49",
   "metadata": {},
   "source": [
    "# Question 2. Multi-Period Production Planning"
   ]
  },
  {
   "cell_type": "code",
   "execution_count": 102,
   "id": "25c0d840",
   "metadata": {},
   "outputs": [],
   "source": [
    "import pandas as pd\n",
    "from gurobipy import *\n",
    "import openpyxl"
   ]
  },
  {
   "cell_type": "code",
   "execution_count": 103,
   "id": "5afb7950",
   "metadata": {},
   "outputs": [],
   "source": [
    "# reading the inputs from Excel workbook\n",
    "wb = openpyxl.load_workbook(\"inputs.xlsx\")\n",
    "main = wb['Main']"
   ]
  },
  {
   "cell_type": "code",
   "execution_count": 104,
   "id": "b752dd3c",
   "metadata": {},
   "outputs": [],
   "source": [
    "# read objevtive\n",
    "obj = main.cell(column=2, row=1).value\n",
    "if obj =='max':\n",
    "    obj = -1\n",
    "elif obj =='min':\n",
    "    obj = 1\n",
    "else:\n",
    "    raise NameError('Objective cannot be recognized')\n",
    "# read obj coefficient\n",
    "obj_coeff = []\n",
    "for c in range(2,10000):\n",
    "    v = main.cell(column=c, row=3).value\n",
    "    if v is None:\n",
    "        break\n",
    "    else:\n",
    "        obj_coeff.append(v)\n",
    "n_variables = len(obj_coeff)\n",
    "\n",
    "#read variable properties\n",
    "variable_name = []\n",
    "for c in range(n_variables):\n",
    "    v = main.cell(column=c+2, row=2).value\n",
    "    if v is None:\n",
    "        variable_name.append('x'+str(c+1))\n",
    "    elif type(v) != str:\n",
    "        variable_name.append(str(v))\n",
    "    else:\n",
    "        variable_name.append(v)\n",
    "        \n",
    "variable_type = []\n",
    "for c in range(n_variables):\n",
    "    v = main.cell(column=c+2, row=4).value\n",
    "    if v is None:\n",
    "        t = 'C' \n",
    "    elif v == 'cont':\n",
    "        t = 'C'\n",
    "    elif v == 'int':\n",
    "        t = 'I'\n",
    "    elif v == 'bin':\n",
    "        t = 'B'\n",
    "    else:\n",
    "        raise NameError('Variable type cannot be recognized')\n",
    "    variable_type.append(t)\n",
    "    \n",
    "variable_lb = []\n",
    "for c in range(n_variables):\n",
    "    v = main.cell(column=c+2, row=5).value\n",
    "    if v is None:\n",
    "        t = 0\n",
    "    elif v == '\"+inf\"':\n",
    "        raise NameError('Variable lower bound cannot be +inf')\n",
    "    elif v == '\"-inf\"':\n",
    "        t = -GRB.INFINITY\n",
    "    elif type(v) in [float, int]:\n",
    "        t = v\n",
    "    else:\n",
    "        raise NameError('Variable lower bound cannot be recognized')\n",
    "    variable_lb.append(t)\n",
    "\n",
    "variable_ub = []\n",
    "for c in range(n_variables):\n",
    "    v = main.cell(column=c+2, row=6).value\n",
    "    if v is None:\n",
    "        t = GRB.INFINITY\n",
    "    elif v == '\"+inf\"':\n",
    "        t = GRB.INFINITY\n",
    "    elif v == '\"-inf\"':\n",
    "        raise NameError('Variable upper bound cannot be -inf')\n",
    "    elif type(v) in [float, int]:\n",
    "        t = v\n",
    "    else:\n",
    "        raise NameError('Variable upper bound cannot be recognized')\n",
    "    variable_ub.append(t)\n",
    "#print(obj_coeff)"
   ]
  },
  {
   "cell_type": "code",
   "execution_count": 105,
   "id": "13d69df3",
   "metadata": {},
   "outputs": [],
   "source": [
    "# read constraints\n",
    "## find constraint column index\n",
    "for c in range(1, n_variables+100):\n",
    "    v = main.cell(column=c, row=8).value\n",
    "    if v == 'constraint type':\n",
    "        const_typ_cind = c\n",
    "        break\n",
    "\n",
    "if const_typ_cind-2 != n_variables:\n",
    "    raise NameError('Number of variables does not match the constraints')\n",
    "    \n",
    "## find last constraint row index\n",
    "for r in range(9, 100000):\n",
    "    v = main.cell(column=const_typ_cind, row=r).value\n",
    "    if v is None:\n",
    "        break\n",
    "    elif v not in [\"<=\", \">=\", \"=\"]:\n",
    "        raise NameError(\"Wrong constraint type\")\n",
    "    else:\n",
    "        last_r_consraints=r\n",
    "\n",
    "## read constraints as dataframe\n",
    "for r in range(9, last_r_consraints+1):\n",
    "    v = main.cell(column=const_typ_cind+2, row=r).value\n",
    "    if v is None:\n",
    "        main.cell(column=const_typ_cind+2, row=r).value = \"c\"+str(r-8)\n",
    "    elif type(v) != str:\n",
    "        main.cell(column=const_typ_cind+2, row=r).value = str(v)\n",
    "    else:\n",
    "        1==1        \n",
    "values = []\n",
    "cons_df = pd.DataFrame()\n",
    "for r in range(9, last_r_consraints+1):\n",
    "    r_values = []\n",
    "    for c in range(2, const_typ_cind+3):\n",
    "        r_values.append(main.cell(column=c, row=r).value)\n",
    "    values.append(r_values)\n",
    "    cons_df = pd.DataFrame(values)\n",
    "    cons_df.fillna(0, inplace=True)\n",
    "    cons_df.rename(columns={const_typ_cind-2:'constraint type', \n",
    "                            const_typ_cind-1:'RHS values', \n",
    "                            const_typ_cind:'constraint name'}, inplace=True)"
   ]
  },
  {
   "cell_type": "code",
   "execution_count": 106,
   "id": "15eb08b7",
   "metadata": {},
   "outputs": [],
   "source": [
    "# setup model\n",
    "m = Model()"
   ]
  },
  {
   "cell_type": "code",
   "execution_count": 107,
   "id": "1333f66f",
   "metadata": {},
   "outputs": [],
   "source": [
    "# add variables\n",
    "x=m.addVars(n_variables)\n",
    "# set types, lb, ub of variables\n",
    "for i in range(n_variables):\n",
    "    x[i].setAttr('VarNAME', variable_name[i])\n",
    "    x[i].setAttr('vType', variable_type[i])\n",
    "    x[i].setAttr('lb', variable_lb[i])\n",
    "    x[i].setAttr('ub', variable_ub[i])"
   ]
  },
  {
   "cell_type": "code",
   "execution_count": 108,
   "id": "e281d4db",
   "metadata": {},
   "outputs": [],
   "source": [
    "# set objective\n",
    "objective = quicksum(obj_coeff[i] * x[i] for i in range(n_variables))\n",
    "m.setObjective(objective, obj)"
   ]
  },
  {
   "cell_type": "code",
   "execution_count": 109,
   "id": "cdd5dc76",
   "metadata": {},
   "outputs": [],
   "source": [
    "# add constraints\n",
    "if cons_df.shape[0]:\n",
    "    ## add le constraints\n",
    "    le_const = cons_df[cons_df['constraint type'] == '<=']\n",
    "    le_const.reset_index(inplace=True, drop=True)\n",
    "    for i in range(le_const.shape[0]):\n",
    "        m.addConstr(quicksum(le_const.iloc[i,j]* x[j] for j in range(n_variables)) <= le_const['RHS values'][i], \n",
    "                    name = le_const['constraint name'][i])\n",
    "    ## add ge constraints\n",
    "    ge_const = cons_df[cons_df['constraint type'] == '>=']\n",
    "    ge_const.reset_index(inplace=True, drop=True)\n",
    "    for i in range(ge_const.shape[0]):\n",
    "        m.addConstr(quicksum(ge_const.iloc[i,j]* x[j] for j in range(n_variables)) >= ge_const['RHS values'][i], \n",
    "                    name = ge_const['constraint name'][i])\n",
    "    ## add eq constraints\n",
    "    eq_const = cons_df[cons_df['constraint type'] == '=']\n",
    "    eq_const.reset_index(inplace=True, drop=True)\n",
    "    for i in range(eq_const.shape[0]):\n",
    "        m.addConstr(quicksum(eq_const.iloc[i,j]* x[j] for j in range(n_variables)) == eq_const['RHS values'][i], \n",
    "                    name = eq_const['constraint name'][i])"
   ]
  },
  {
   "cell_type": "code",
   "execution_count": 110,
   "id": "84f0b240",
   "metadata": {},
   "outputs": [
    {
     "name": "stdout",
     "output_type": "stream",
     "text": [
      "Gurobi Optimizer version 9.5.2 build v9.5.2rc0 (win64)\n",
      "Thread count: 6 physical cores, 12 logical processors, using up to 12 threads\n",
      "Optimize a model with 8 rows, 10 columns and 20 nonzeros\n",
      "Model fingerprint: 0xcfbe0a32\n",
      "Coefficient statistics:\n",
      "  Matrix range     [1e+00, 1e+00]\n",
      "  Objective range  [1e+00, 1e+00]\n",
      "  Bounds range     [0e+00, 0e+00]\n",
      "  RHS range        [1e+01, 4e+01]\n",
      "Presolve removed 3 rows and 2 columns\n",
      "Presolve time: 0.01s\n",
      "Presolved: 5 rows, 8 columns, 15 nonzeros\n",
      "\n",
      "Iteration    Objective       Primal Inf.    Dual Inf.      Time\n",
      "       0    7.7025000e+01   7.500000e+00   0.000000e+00      0s\n",
      "       2    7.7300000e+01   0.000000e+00   0.000000e+00      0s\n",
      "\n",
      "Solved in 2 iterations and 0.01 seconds (0.00 work units)\n",
      "Optimal objective  7.730000000e+01\n"
     ]
    }
   ],
   "source": [
    "## run the model\n",
    "m.optimize()"
   ]
  },
  {
   "cell_type": "code",
   "execution_count": 111,
   "id": "16a4bd9a",
   "metadata": {},
   "outputs": [
    {
     "name": "stdout",
     "output_type": "stream",
     "text": [
      "\n",
      "    Variable            X \n",
      "-------------------------\n",
      "         X11           10 \n",
      "         X12           15 \n",
      "         X24            5 \n",
      "         X33           25 \n",
      "         X34            5 \n",
      "         X44           10 \n"
     ]
    }
   ],
   "source": [
    "# print optimal solution\n",
    "m.printAttr('X')"
   ]
  },
  {
   "cell_type": "code",
   "execution_count": 112,
   "id": "98a5e3a1",
   "metadata": {},
   "outputs": [
    {
     "name": "stdout",
     "output_type": "stream",
     "text": [
      "For Variable X11:\n",
      "Minimum value coefficient can take before the optimal decision changes is -inf\n",
      "Maximum value coefficient can take before the optimal decision changes is inf\n",
      "For Variable X12:\n",
      "Minimum value coefficient can take before the optimal decision changes is -inf\n",
      "Maximum value coefficient can take before the optimal decision changes is 1.0950000000000002\n",
      "For Variable X13:\n",
      "Minimum value coefficient can take before the optimal decision changes is 1.1099999999999999\n",
      "Maximum value coefficient can take before the optimal decision changes is 1.11\n",
      "For Variable X14:\n",
      "Minimum value coefficient can take before the optimal decision changes is 1.125\n",
      "Maximum value coefficient can take before the optimal decision changes is inf\n",
      "For Variable X22:\n",
      "Minimum value coefficient can take before the optimal decision changes is 1.1099999999999999\n",
      "Maximum value coefficient can take before the optimal decision changes is inf\n",
      "For Variable X23:\n",
      "Minimum value coefficient can take before the optimal decision changes is 1.125\n",
      "Maximum value coefficient can take before the optimal decision changes is inf\n",
      "For Variable X24:\n",
      "Minimum value coefficient can take before the optimal decision changes is 1.13\n",
      "Maximum value coefficient can take before the optimal decision changes is 1.14\n",
      "For Variable X33:\n",
      "Minimum value coefficient can take before the optimal decision changes is 1.1\n",
      "Maximum value coefficient can take before the optimal decision changes is 1.1\n",
      "For Variable X34:\n",
      "Minimum value coefficient can take before the optimal decision changes is 1.115\n",
      "Maximum value coefficient can take before the optimal decision changes is 1.115\n",
      "For Variable X44:\n",
      "Minimum value coefficient can take before the optimal decision changes is -inf\n",
      "Maximum value coefficient can take before the optimal decision changes is 1.14\n"
     ]
    }
   ],
   "source": [
    "# sensitivity analysis\n",
    "for v in m.getVars():\n",
    "    print(\"For Variable \" + v.VarName+ \":\")\n",
    "    print(\"Minimum value coefficient can take before the optimal decision changes \"  + \"is \" + str(v.SAObjLow))\n",
    "    print(\"Maximum value coefficient can take before the optimal decision changes \"  + \"is \" + str(v.SAObjUp))"
   ]
  },
  {
   "cell_type": "code",
   "execution_count": 113,
   "id": "72ca79da",
   "metadata": {},
   "outputs": [
    {
     "name": "stdout",
     "output_type": "stream",
     "text": [
      "For constraint production capacity for month 1:\n",
      "Shawdow Price is -0.014999999999999902\n",
      "Minimum value RHS can take before the shadow price changes is 25.0\n",
      "Maximum value RHS can take before the shadow price changes is 30.0\n",
      "For constraint production capacity for month 2:\n",
      "Shawdow Price is 0.0\n",
      "Minimum value RHS can take before the shadow price changes is 5.0\n",
      "Maximum value RHS can take before the shadow price changes is inf\n",
      "For constraint production capacity for month 3:\n",
      "Shawdow Price is -0.02499999999999991\n",
      "Minimum value RHS can take before the shadow price changes is 25.0\n",
      "Maximum value RHS can take before the shadow price changes is 35.0\n",
      "For constraint production capacity for month 4:\n",
      "Shawdow Price is -0.010000000000000009\n",
      "Minimum value RHS can take before the shadow price changes is 0.0\n",
      "Maximum value RHS can take before the shadow price changes is 15.0\n",
      "For constraint installation schedule for month 1:\n",
      "Shawdow Price is 1.095\n",
      "Minimum value RHS can take before the shadow price changes is 5.0\n",
      "Maximum value RHS can take before the shadow price changes is 10.0\n",
      "For constraint installation schedule for month 2:\n",
      "Shawdow Price is 1.1099999999999999\n",
      "Minimum value RHS can take before the shadow price changes is 10.0\n",
      "Maximum value RHS can take before the shadow price changes is 15.0\n",
      "For constraint installation schedule for month 3:\n",
      "Shawdow Price is 1.125\n",
      "Minimum value RHS can take before the shadow price changes is 20.0\n",
      "Maximum value RHS can take before the shadow price changes is 30.0\n",
      "For constraint installation schedule for month 4:\n",
      "Shawdow Price is 1.14\n",
      "Minimum value RHS can take before the shadow price changes is 15.0\n",
      "Maximum value RHS can take before the shadow price changes is 50.0\n"
     ]
    }
   ],
   "source": [
    "for c in m.getConstrs():\n",
    "    print(\"For constraint \" + c.ConstrName+ \":\")\n",
    "    print(\"Shawdow Price is \" + str(c.pi))\n",
    "    print(\"Minimum value RHS can take before the shadow price changes \"  + \"is \" + str(c.SARHSLow))\n",
    "    print(\"Maximum value RHS can take before the shadow price changes \"  + \"is \" + str(c.SARHSUp))"
   ]
  },
  {
   "cell_type": "code",
   "execution_count": null,
   "id": "2da9b7cd",
   "metadata": {},
   "outputs": [],
   "source": []
  }
 ],
 "metadata": {
  "kernelspec": {
   "display_name": "Python 3 (ipykernel)",
   "language": "python",
   "name": "python3"
  },
  "language_info": {
   "codemirror_mode": {
    "name": "ipython",
    "version": 3
   },
   "file_extension": ".py",
   "mimetype": "text/x-python",
   "name": "python",
   "nbconvert_exporter": "python",
   "pygments_lexer": "ipython3",
   "version": "3.9.12"
  }
 },
 "nbformat": 4,
 "nbformat_minor": 5
}
